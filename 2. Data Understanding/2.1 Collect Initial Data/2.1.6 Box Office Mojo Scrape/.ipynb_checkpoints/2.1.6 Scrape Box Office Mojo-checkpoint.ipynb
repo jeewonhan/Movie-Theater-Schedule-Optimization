{
 "cells": [
  {
   "cell_type": "markdown",
   "metadata": {},
   "source": [
    "## Description\n",
    "\n",
    "#### Purpose: To scrape movie details from Box Office Mojo using IMDb ID.\n",
    "\n",
    "#### Input: `2.1.5_IMDb_IDs.csv`\n",
    "\n",
    "#### Outputs: `2.1.6_BOM_Data.csv`\n",
    "\n",
    "This notebook houses functions that scrape revenue, title, and other movie metadata from Box Office Mojo given IMDb ID."
   ]
  },
  {
   "cell_type": "code",
   "execution_count": null,
   "metadata": {},
   "outputs": [],
   "source": [
    "!pip install beautifulsoup4\n",
    "!pip3 install html5lib   "
   ]
  },
  {
   "cell_type": "code",
   "execution_count": null,
   "metadata": {},
   "outputs": [],
   "source": [
    "from bs4 import BeautifulSoup\n",
    "import requests\n",
    "import html5lib\n",
    "import numpy as np\n",
    "import re"
   ]
  },
  {
   "cell_type": "code",
   "execution_count": null,
   "metadata": {},
   "outputs": [],
   "source": [
    "# This gets the worldwide revenues\n",
    "def get_worldwide_rev(sp):\n",
    "    rev = {}\n",
    "    table = sp.find(\"div\", attrs={\"class\": \"a-section a-spacing-none mojo-performance-summary-table\"})\n",
    "    revenues = []\n",
    "    for row in table.findAll(\"span\", attrs={\"class\" : \"a-size-medium a-text-bold\"}):\n",
    "        money = row.findAll(\"span\", attrs={\"class\":\"money\"})\n",
    "        for m in money:\n",
    "            dol = m.get_text().split(\"$\")\n",
    "            dol = \"\".join(dol[1].split(\",\"))\n",
    "            revenues.append(int(dol))\n",
    "\n",
    "    type_of_rev = []\n",
    "    for t in table.findAll(\"span\", attrs={\"class\":\"a-size-small\"}):\n",
    "        for line in list(set(t.get_text().split(\" \"))):\n",
    "            if line.isalpha() : type_of_rev.append(line)\n",
    "\n",
    "    for i in range(len(revenues)):\n",
    "        rev[type_of_rev[i]] = revenues[i]\n",
    "    return rev"
   ]
  },
  {
   "cell_type": "code",
   "execution_count": null,
   "metadata": {},
   "outputs": [],
   "source": [
    "# Gets all data available in the page\n",
    "def get_data(sp):\n",
    "    table = sp.find(\"div\", attrs={\"class\": \"a-section a-spacing-none mojo-summary-values mojo-hidden-from-mobile\"})\n",
    "    avail_data = []\n",
    "    for row in table.findAll(\"div\", attrs={\"class\":\"a-section a-spacing-none\"}):\n",
    "        if \"IMDbPro\" not in row.find(\"span\").get_text() : avail_data.append(row.find(\"span\").get_text())\n",
    "    print(avail_data)\n",
    "    table = sp.find(\"div\", attrs={\"class\": \"a-section a-spacing-none mojo-summary-values mojo-hidden-from-mobile\"})\n",
    "\n",
    "    data = []\n",
    "    store_next = False\n",
    "    for t in table.findAll(\"span\"):\n",
    "        if store_next == True:\n",
    "            data.append(t.getText().strip())\n",
    "            store_next = False\n",
    "        if t.getText().strip() in avail_data:\n",
    "            store_next = True\n",
    "\n",
    "    formatted_data = []\n",
    "    for d in data:\n",
    "        a = \" \".join(d.split(\"\\n\"))\n",
    "        a = \" \".join(a.split(\" \"))\n",
    "        a = re.sub(' +', ' ', a)\n",
    "        a = a.strip()\n",
    "        if \"See full\" in a:\n",
    "            a = a.split(\"See full\")[0]\n",
    "            formatted_data.append(a.strip())\n",
    "        elif \"$\" in a:\n",
    "            dol = a.split(\"$\")\n",
    "            dol = \"\".join(dol[1].split(\",\"))\n",
    "            formatted_data.append(int(dol))\n",
    "        else:\n",
    "            formatted_data.append(a.strip())\n",
    "        \n",
    "    data_dict = {}\n",
    "    for i in range(len(avail_data)):\n",
    "        data_dict[avail_data[i]] = formatted_data[i]\n",
    "\n",
    "    return data_dict"
   ]
  },
  {
   "cell_type": "code",
   "execution_count": null,
   "metadata": {},
   "outputs": [],
   "source": [
    "def get_title(sp):\n",
    "    title = sp.find(\"h1\", attrs={\"class\":\"a-size-extra-large\"}).getText()\n",
    "    return title"
   ]
  },
  {
   "cell_type": "code",
   "execution_count": null,
   "metadata": {},
   "outputs": [],
   "source": [
    "def get_data_by_id(id):\n",
    "    URL = f\"https://www.boxofficemojo.com/title/{id}/?ref_=bo_se_r_2\"\n",
    "    page = requests.get(URL)\n",
    "    soup = BeautifulSoup(page.content, \"html5lib\")\n",
    "    title = get_title(soup)\n",
    "    revenue = get_worldwide_rev(soup)\n",
    "    data = get_data(soup)\n",
    "    data[\"Title\"] = title\n",
    "    data[\"Revenue\"] = revenue\n",
    "    return data"
   ]
  },
  {
   "cell_type": "code",
   "execution_count": null,
   "metadata": {},
   "outputs": [],
   "source": [
    "# Test Example IMDb ID\n",
    "print(get_data_by_id('tt0848228'))"
   ]
  },
  {
   "cell_type": "code",
   "execution_count": null,
   "metadata": {},
   "outputs": [],
   "source": [
    "# Function to Run Scrape and Output CSV\n",
    "def process_csv(input_file, output_file):\n",
    "    with open(input_file, 'r') as csv_file:\n",
    "        reader = csv.reader(csv_file)\n",
    "        \n",
    "        # Skip the header if it exists\n",
    "        next(reader, None)\n",
    "\n",
    "        # Open output CSV file for writing\n",
    "        with open(output_file, 'w', newline='') as output_csv:\n",
    "            writer = csv.writer(output_csv)\n",
    "\n",
    "            # Write header to output CSV\n",
    "            writer.writerow(['Domestic Distributor', 'Domestic Opening', 'Budget', 'Earliest Release Date', 'MPAA', 'Running Time', 'Genres', 'Title', 'Revenue'])\n",
    "\n",
    "            # Process each row in the input CSV\n",
    "            for row in reader:\n",
    "                imdb_id = row[0]\n",
    "\n",
    "                # Call get_data_by_id and get the result\n",
    "                result = get_data_by_id(imdb_id)\n",
    "\n",
    "                # Extract info from returned data\n",
    "                info_to_write = [\n",
    "                    result['Domestic Distributor'],\n",
    "                    result['Domestic Opening'],\n",
    "                    result['Budget'],\n",
    "                    result['Earliest Release Date'],\n",
    "                    result['MPAA'],\n",
    "                    result['Running Time'],\n",
    "                    result['Genres'],\n",
    "                    result['Title'],\n",
    "                    result['Revenue']\n",
    "                ]\n",
    "\n",
    "                # Write the information to the output CSV\n",
    "                writer.writerow(info_to_write)"
   ]
  },
  {
   "cell_type": "code",
   "execution_count": null,
   "metadata": {},
   "outputs": [],
   "source": [
    "input_csv_file = '../2.1.5 Get IMDb IDs/Outputs/2.1.5_IMDb_ids.csv'\n",
    "output_csv_file = '/Outputs/2.1.6_BOM_Data.csv'\n",
    "process_csv(input_csv_file, output_csv_file)"
   ]
  }
 ],
 "metadata": {
  "kernelspec": {
   "display_name": "Python 3 (ipykernel)",
   "language": "python",
   "name": "python3"
  },
  "language_info": {
   "codemirror_mode": {
    "name": "ipython",
    "version": 3
   },
   "file_extension": ".py",
   "mimetype": "text/x-python",
   "name": "python",
   "nbconvert_exporter": "python",
   "pygments_lexer": "ipython3",
   "version": "3.9.7"
  }
 },
 "nbformat": 4,
 "nbformat_minor": 4
}
