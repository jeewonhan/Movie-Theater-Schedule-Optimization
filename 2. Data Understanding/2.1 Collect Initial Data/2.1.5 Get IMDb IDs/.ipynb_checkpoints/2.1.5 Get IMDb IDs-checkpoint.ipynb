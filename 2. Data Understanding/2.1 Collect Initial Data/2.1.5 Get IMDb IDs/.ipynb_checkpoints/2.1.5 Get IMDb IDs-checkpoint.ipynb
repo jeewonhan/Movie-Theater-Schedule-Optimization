{
 "cells": [
  {
   "cell_type": "markdown",
   "id": "dd7afc33-ac7e-44f5-ad75-176116ce91ec",
   "metadata": {},
   "source": [
    "## Description\n",
    "\n",
    "#### Purpose: To obtain 1-column csv of IMDb IDs for movies for 2.1.6 Box Office Mojo Scrape.\n",
    "\n",
    "#### Input: `2.1.2_TMDB_IDs_Theatrical.csv`\n",
    "\n",
    "#### Outputs: `2.1.5_IMDb_IDs.csv`\n",
    "\n",
    "This notebook takes the TMDB IDs for movies with theatrical releases and retrieves the IMDb ID for that movie, which is used by Box Office Mojo to store movie metadata."
   ]
  },
  {
   "cell_type": "code",
   "execution_count": null,
   "id": "4979ed9c",
   "metadata": {},
   "outputs": [],
   "source": [
    "from tmdbv3api import TMDb\n",
    "from tmdbv3api import Movie\n",
    "from tmdbv3api.exceptions import TMDbException\n",
    "import random\n",
    "import pandas as pd\n",
    "import csv\n",
    "tmdb=TMDb()\n",
    "tmdb.api_key=' '\n",
    "    ## API key redacted\n",
    "tmdb.language='en'\n",
    "movie=Movie()"
   ]
  },
  {
   "cell_type": "markdown",
   "id": "e6887b5c-49bd-437f-91ad-f068876db3da",
   "metadata": {
    "tags": []
   },
   "source": [
    "## Movie Details - Jeewon Update 9/21/23"
   ]
  },
  {
   "cell_type": "code",
   "execution_count": null,
   "id": "d21764fe-447f-4cbe-b61a-83415fd8c432",
   "metadata": {},
   "outputs": [],
   "source": [
    "# Initialize Lists\n",
    "imdb_ids = []\n",
    "i=1\n",
    "\n",
    "csv_file_path='movie_release_date_ids_new.csv'\n",
    "with open(csv_file_path,'r') as csv_file:\n",
    "    csv_reader=csv.reader(csv_file)\n",
    "    next(csv_reader) # Skip the header row\n",
    "    # Loop until the end of the CSV\n",
    "    while True:\n",
    "        try:\n",
    "            row=next(csv_reader)\n",
    "            movie_id=int(row[1])\n",
    "            \n",
    "            #Query movie details by ID\n",
    "            movie_details=movie.details(movie_id)\n",
    "            adult = movie_details.adult\n",
    "            imdb_id = movie_details.imdb_id\n",
    "            \n",
    "            if adult is False and imdb_id is not None:\n",
    "                imdb_ids.append(imdb_id)\n",
    "            #print(i)\n",
    "            #i+=1\n",
    "        except StopIteration:\n",
    "            break\n",
    "        except Exception as e:\n",
    "            # Handle any exceptions\n",
    "            print(f\"Error processing movie ID {movie_id}:{e}\")\n",
    "\n",
    "print(\"Pull Complete\")"
   ]
  },
  {
   "cell_type": "code",
   "execution_count": null,
   "id": "0ed1fd66-4840-439f-a800-0980c4f5a045",
   "metadata": {},
   "outputs": [],
   "source": [
    "# Create CSV\n",
    "\n",
    "df=pd.DataFrame({'IMDb_id': imdb_ids})\n",
    "# Drop Rows With Blank ID\n",
    "df = df[df.imdb_id != \"\"]\n",
    "# Add an index column\n",
    "df.insert(0,'Index',range(1, len(df) + 1))\n",
    "# Save \n",
    "file_name='/Outputs/2.1.5_IMDb_ids.csv'\n",
    "df.to_csv(file_name,index=False)\n",
    "print(f\"Operation Complete\")"
   ]
  },
  {
   "cell_type": "code",
   "execution_count": null,
   "id": "283e19db-2376-4f8f-87d5-e71b83ea044b",
   "metadata": {},
   "outputs": [],
   "source": []
  }
 ],
 "metadata": {
  "kernelspec": {
   "display_name": "Python 3 (ipykernel)",
   "language": "python",
   "name": "python3"
  },
  "language_info": {
   "codemirror_mode": {
    "name": "ipython",
    "version": 3
   },
   "file_extension": ".py",
   "mimetype": "text/x-python",
   "name": "python",
   "nbconvert_exporter": "python",
   "pygments_lexer": "ipython3",
   "version": "3.9.7"
  }
 },
 "nbformat": 4,
 "nbformat_minor": 5
}
