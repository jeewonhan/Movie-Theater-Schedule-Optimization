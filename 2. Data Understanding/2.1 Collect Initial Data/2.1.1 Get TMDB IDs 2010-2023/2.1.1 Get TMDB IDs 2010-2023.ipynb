{
 "cells": [
  {
   "cell_type": "markdown",
   "metadata": {},
   "source": [
    "## Description\n",
    "\n",
    "#### Purpose: To obtain TMDB IDs for all movies on TMDB with release dates between 2010 and 2023. \n",
    "\n",
    "#### Output: `2.1.1_TMDB_IDs_2010_2023.csv`\n",
    "\n",
    "This notebook contains the functions necessary to retrieve TMDB IDs for all movies on TMDB released in a given year. To achieve this, the code first retrieves the number of \"Pages\" of output from TMDB's \"Discover\" query, which allows the user to find films given parameters like language and release year. To avoid timeout issues, the code takes the total number of pages, divides it by two, and takes the ceiling. It then retrieves TMDB IDs for (the ceiling of) half of the movies in a given year in ascending order by release date and the other half in descending order. It then takes the set of the two lists to remove any duplicate TMDB IDs that may have been captured on pages of both the ascending and descending functions. This process is repeated for all desired years and the resulting list of TMDB IDs is output to a csv.\n",
    "\n",
    "Movies released in 2013-2023 will comprise the movies in the dataset when building the model. Movies released in 2010-2012 will be used for feature engineering in the same dataset."
   ]
  },
  {
   "cell_type": "code",
   "execution_count": 1,
   "metadata": {},
   "outputs": [],
   "source": [
    "# Install Library for TMDB API\n",
    "#!pip install tmdbv3api"
   ]
  },
  {
   "cell_type": "code",
   "execution_count": 2,
   "metadata": {},
   "outputs": [],
   "source": [
    "from tmdbv3api import TMDb\n",
    "from tmdbv3api import Movie\n",
    "from tmdbv3api.exceptions import TMDbException\n",
    "import random\n",
    "import pandas as pd\n",
    "import matplotlib.pyplot as plt\n",
    "import requests\n",
    "import json\n",
    "tmdb=TMDb()\n",
    "tmdb.api_key=' '\n",
    "    ## API key redacted"
   ]
  },
  {
   "cell_type": "code",
   "execution_count": 3,
   "metadata": {},
   "outputs": [],
   "source": [
    "# Function to get the total number of Pages of TMDB output and the JSON results\n",
    "# Sorting by non-adult, english-language movies with primary release year in {year}\n",
    "def get_number_pages_and_results_year(year):\n",
    "    url = f\"https://api.themoviedb.org/3/discover/movie?include_adult=false&include_video=false&page={1}&language=en-US&primary_release_year={year}&sort_by=primary_release_date.asc&with_original_language=en\"\n",
    "\n",
    "    headers = {\n",
    "        \"accept\": \"application/json\",\n",
    "        \"Authorization\": \"Bearer ' '\"\n",
    "            ## token redacted\n",
    "    }\n",
    "\n",
    "    response = requests.get(url, headers=headers)\n",
    "    page = json.loads(response.text)\n",
    "\n",
    "    pages = page[\"total_pages\"]\n",
    "    results = page[\"total_results\"]\n",
    "\n",
    "    return pages, results"
   ]
  },
  {
   "cell_type": "code",
   "execution_count": 4,
   "metadata": {},
   "outputs": [],
   "source": [
    "# Function to get TMDB pages in descending order of release date\n",
    "def get_desc_by_year(year, num_pages):\n",
    "    data = []\n",
    "    for i in range(num_pages):\n",
    "        url = f\"https://api.themoviedb.org/3/discover/movie?include_adult=false&include_video=false&page={i+1}&language=en-US&primary_release_year={year}&sort_by=primary_release_date.desc&with_original_language=en\"\n",
    "\n",
    "        headers = {\n",
    "            \"accept\": \"application/json\",\n",
    "            \"Authorization\": \"Bearer ' '\"\n",
    "                ## token redacted\n",
    "        }\n",
    "\n",
    "        response = requests.get(url, headers=headers)\n",
    "        page = json.loads(response.text)\n",
    "        data.append(page)\n",
    "    return data"
   ]
  },
  {
   "cell_type": "code",
   "execution_count": 5,
   "metadata": {},
   "outputs": [],
   "source": [
    "# Function to get TMDB pages in ascending order of release date\n",
    "def get_asc_by_year(year, num_pages):\n",
    "    data = []\n",
    "    for i in range(num_pages):\n",
    "        url = f\"https://api.themoviedb.org/3/discover/movie?include_adult=false&include_video=false&page={i+1}&language=en-US&primary_release_year={year}&sort_by=primary_release_date.asc&with_original_language=en\"\n",
    "\n",
    "        headers = {\n",
    "            \"accept\": \"application/json\",\n",
    "            \"Authorization\": \"Bearer ' '\"\n",
    "                ## token redacted\n",
    "        }\n",
    "\n",
    "        response = requests.get(url, headers=headers)\n",
    "        page = json.loads(response.text)\n",
    "        data.append(page)\n",
    "    return data"
   ]
  },
  {
   "cell_type": "code",
   "execution_count": 6,
   "metadata": {},
   "outputs": [],
   "source": [
    "# Function to get TMDB IDs\n",
    "def get_movie_ids_by_year(year):\n",
    "    \n",
    "    # Get total number of pages\n",
    "    pages, results = get_number_pages_and_results_year(year)\n",
    "    \n",
    "    # Find the (ceiling of) half the number of pages\n",
    "    ciel_pages = -(pages //-2)\n",
    "    \n",
    "    # Get results when sorted by ascending order of release\n",
    "    data_asc = get_asc_by_year(year, ciel_pages)\n",
    "    \n",
    "    # Get results when sorted by descending order of release\n",
    "    data_desc = get_desc_by_year(year, ciel_pages)\n",
    "\n",
    "    # Append ascending and descending IDs\n",
    "    ids_desc = []\n",
    "    ids_asc = []\n",
    "    for p in range(ciel_pages):\n",
    "        for i in range(len(data_desc[p][\"results\"])):\n",
    "            ids_desc.append(data_desc[p][\"results\"][i][\"id\"])\n",
    "        for j in range(len(data_asc[p][\"results\"])):\n",
    "            ids_asc.append(data_asc[p][\"results\"][j][\"id\"])\n",
    "    \n",
    "    # Combine IDs and remove duplicates that may have gotten captured in both ascending and descending\n",
    "    ids = ids_asc + ids_desc\n",
    "    ids = list(set(ids))\n",
    "    print(f\"We wanted {results}, and we got {len(ids)} for year {year}\")\n",
    "    \n",
    "    return ids   "
   ]
  },
  {
   "cell_type": "code",
   "execution_count": 7,
   "metadata": {},
   "outputs": [
    {
     "name": "stdout",
     "output_type": "stream",
     "text": [
      "We wanted 7918, and we got 7881 for year 2010\n",
      "We wanted 8740, and we got 8740 for year 2011\n",
      "We wanted 9561, and we got 9561 for year 2012\n",
      "We wanted 10973, and we got 10973 for year 2013\n",
      "We wanted 11711, and we got 11711 for year 2014\n",
      "We wanted 11768, and we got 11768 for year 2015\n",
      "We wanted 11994, and we got 11981 for year 2016\n",
      "We wanted 13499, and we got 13499 for year 2017\n",
      "We wanted 13732, and we got 13732 for year 2018\n",
      "We wanted 15298, and we got 15296 for year 2019\n",
      "We wanted 16362, and we got 16362 for year 2020\n",
      "We wanted 16844, and we got 16844 for year 2021\n",
      "We wanted 15691, and we got 15691 for year 2022\n"
     ]
    }
   ],
   "source": [
    "id_list = []\n",
    "for yr in range(2009, 2022): #Years are off by -1\n",
    "    id_list += get_movie_ids_by_year(yr+1)"
   ]
  },
  {
   "cell_type": "code",
   "execution_count": 9,
   "metadata": {},
   "outputs": [],
   "source": [
    "df = pd.DataFrame({'ids':id_list})\n",
    "df.to_csv(\"./Outputs/2.1.1_TMDB_IDs_2010_2023.csv\")"
   ]
  }
 ],
 "metadata": {
  "kernelspec": {
   "display_name": "Python 3 (ipykernel)",
   "language": "python",
   "name": "python3"
  },
  "language_info": {
   "codemirror_mode": {
    "name": "ipython",
    "version": 3
   },
   "file_extension": ".py",
   "mimetype": "text/x-python",
   "name": "python",
   "nbconvert_exporter": "python",
   "pygments_lexer": "ipython3",
   "version": "3.9.7"
  }
 },
 "nbformat": 4,
 "nbformat_minor": 4
}
