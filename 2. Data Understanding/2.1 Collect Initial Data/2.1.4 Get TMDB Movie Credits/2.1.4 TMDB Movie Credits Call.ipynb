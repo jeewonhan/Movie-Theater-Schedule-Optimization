{
 "cells": [
  {
   "cell_type": "markdown",
   "id": "c22c80ed-31a4-4237-8224-265aef0310db",
   "metadata": {},
   "source": [
    "## Description\n",
    "\n",
    "#### Purpose: To obtain movie details using TMDB ID for all movies on TMDB with theatrical release dates between 2010 and 2023.\n",
    "\n",
    "#### Input: `2.1.2_TMDB_IDs_Theatrical.csv`\n",
    "\n",
    "#### Outputs: `2.1.4_TMDB_External_IDs.csv`, `2.1.4_TMDB_Movie_Credits.csv`\n",
    "\n",
    "This notebook takes the TMDB IDs for movies with theatrical releases and retrieves external IDs for that movie (i.e. IMDb and Wikidata ID) as well as the movie credits."
   ]
  },
  {
   "cell_type": "code",
   "execution_count": null,
   "id": "4979ed9c",
   "metadata": {
    "id": "4979ed9c"
   },
   "outputs": [],
   "source": [
    "from tmdbv3api import TMDb\n",
    "from tmdbv3api import Movie\n",
    "from tmdbv3api.exceptions import TMDbException\n",
    "import random\n",
    "import pandas as pd\n",
    "import csv\n",
    "tmdb=TMDb()\n",
    "tmdb.api_key=' '\n",
    "    ## API key redacted\n",
    "tmdb.language='en'\n",
    "movie=Movie()"
   ]
  },
  {
   "cell_type": "code",
   "execution_count": null,
   "id": "38d28106",
   "metadata": {
    "id": "38d28106"
   },
   "outputs": [],
   "source": [
    "num_movies=0\n",
    "i=1\n",
    "\n",
    "# File Path for csv from 2.1.2\n",
    "csv_file_path='../2.1.2 Filter Out Non-Theatrical Releases/Outputs/2.1.2_TMDB_IDs_Theatrical.csv'\n",
    "\n",
    "# Create a list to store movie IDs\n",
    "movie_data=[]\n",
    "\n",
    "# Make a set of IDs to check against\n",
    "written_movie_ids=set()\n",
    "\n",
    "# Initialize Lists\n",
    "movie_data=[]\n",
    "imdb_ids = []\n",
    "wikidata_ids = []\n",
    "\n",
    "with open(csv_file_path,'r') as csv_file:\n",
    "    csv_reader=csv.reader(csv_file)\n",
    "    next(csv_reader) # Skip the header row\n",
    "    # Loop until the end of the CSV\n",
    "    while True:\n",
    "        try:\n",
    "            row=next(csv_reader)\n",
    "            movie_id=int(row[1])\n",
    "            \n",
    "            #Query movie details by ID\n",
    "            ext_ids=movie.external_ids(movie_id)\n",
    "            \n",
    "            if ext_ids:\n",
    "                #print(ext_ids)\n",
    "                movie_data.append(movie_id)\n",
    "                imdb_ids.append(ext_ids.get('imdb_id'))\n",
    "                wikidata_ids.append(ext_ids.get('wikidata_id'))\n",
    "                #facebook_ids.append(ext_ids.get('facebook_id'))\n",
    "                #instagram_ids.append(ext_ids.get('instagram_id'))\n",
    "                #twitter_ids.append(ext_ids.get('twitter_id'))\n",
    "                num_movies += 1\n",
    "                if num_movies % 1000 == 0:\n",
    "                    print(num_movies)\n",
    "\n",
    "        except StopIteration:\n",
    "            break\n",
    "        except Exception as e:\n",
    "            #Handle any exceptions\n",
    "            print(f\"Error processing movie ID {movie_id}:{e}\")\n",
    "ext_ids_df = pd.DataFrame({'ID':movie_data, 'imdb_id': imdb_ids, 'wikidata_id': wikidata_ids})\n",
    "# Save\n",
    "file_name='movie_external_ids.csv'\n",
    "ext_ids_df.to_csv(file_name,index=False)\n",
    "print(f\"Operation Complete\")"
   ]
  },
  {
   "cell_type": "markdown",
   "id": "R7TL3xUH5uUP",
   "metadata": {
    "id": "R7TL3xUH5uUP"
   },
   "source": [
    "The below code block gets movie credits by\n",
    "1. going through each movie and getting the credits\n",
    "2. getting the cast IDs, cast order, and director IDs and saving it to the `movie_credits_df` *for that movie*\n",
    "3. adding cast id, actor name, popularity, etc. to the overall `people_info` dataframe if the actor is not already there."
   ]
  },
  {
   "cell_type": "code",
   "execution_count": null,
   "id": "2qMV64hU5Wym",
   "metadata": {
    "id": "2qMV64hU5Wym"
   },
   "outputs": [],
   "source": [
    "num_movies=0\n",
    "\n",
    "csv_file_path='movie_release_date_revenue_nonzero_ids.csv'\n",
    "people_info = pd.DataFrame(columns=['id', 'name', 'known_for_dept', 'popularity'])\n",
    "movie_credits_df = pd.DataFrame(columns=['movie_id', 'cast_ids', 'order', 'director_ids'])\n",
    "#movie_directors_df = pd.DataFrame(columns=['movie_id', 'directors_ids'])\n",
    "\n",
    "with open(csv_file_path,'r') as csv_file:\n",
    "    csv_reader=csv.reader(csv_file)\n",
    "    next(csv_reader)  #Skip the header row\n",
    "    #Loop until the end of the CSV\n",
    "    while True:\n",
    "        try:\n",
    "            row=next(csv_reader)\n",
    "            movie_id=int(row[1])\n",
    "            credits=movie.credits(movie_id)\n",
    "            if credits:\n",
    "                cast = credits.get('cast')\n",
    "                cast_ids = []\n",
    "                order = []\n",
    "                for person in cast:\n",
    "                    person_id = person.get('id')\n",
    "                    cast_ids.append(person_id)\n",
    "                    order.append(person.get('order'))\n",
    "                    # if person not in people dataframe, add them\n",
    "                    if person_id not in people_info.loc[:,'id'].values:\n",
    "                        person_name = person.get('name')\n",
    "                        person_known = person.get('known_for_department')\n",
    "                        person_pop = person.get('popularity')\n",
    "                        people_info = pd.concat([people_info, pd.DataFrame({'id': [person_id], 'name': [person_name], 'known_for_dept': [person_known], 'popularity': [person_pop]})], ignore_index=True)\n",
    "                crew = credits.get('crew')\n",
    "                director_ids = []\n",
    "                for person in crew:\n",
    "                    if person.get('job') == 'Director':\n",
    "                        person_id = person.get('id')\n",
    "                        director_ids.append(person_id)\n",
    "                        if person_id not in people_info.loc[:,'id'].values:\n",
    "                            person_name = person.get('name')\n",
    "                            person_known = person.get('known_for_department')\n",
    "                            person_pop = person.get('popularity')\n",
    "                            people_info = pd.concat([people_info, pd.DataFrame({'id': [person_id], 'name': [person_name], 'known_for_dept': [person_known], 'popularity': [person_pop]})], ignore_index=True)\n",
    "                movie_credits_df = pd.concat([movie_credits_df, pd.DataFrame({'movie_id': [movie_id], 'cast_ids': [cast_ids], 'order': [order], 'director_ids': [director_ids]})], ignore_index=True)\n",
    "            num_movies += 1\n",
    "            if num_movies % 100 ==0:\n",
    "                print(num_movies)\n",
    "        except StopIteration:\n",
    "            break\n",
    "        except Exception as e:\n",
    "            #Handle any exceptions\n",
    "            print(f\"Error processing movie ID {movie_id}:{e}\")\n",
    "\n",
    "file_name='movie_credits.csv'\n",
    "movie_credits_df.to_csv(file_name,index=False)\n",
    "\n",
    "print(f\"Operation Complete\")"
   ]
  },
  {
   "cell_type": "code",
   "execution_count": null,
   "id": "KzK8JfVrF3PU",
   "metadata": {
    "id": "KzK8JfVrF3PU"
   },
   "outputs": [],
   "source": [
    "people_info.to_csv('people_info.csv', index=False)"
   ]
  }
 ],
 "metadata": {
  "colab": {
   "provenance": []
  },
  "kernelspec": {
   "display_name": "Python 3 (ipykernel)",
   "language": "python",
   "name": "python3"
  },
  "language_info": {
   "codemirror_mode": {
    "name": "ipython",
    "version": 3
   },
   "file_extension": ".py",
   "mimetype": "text/x-python",
   "name": "python",
   "nbconvert_exporter": "python",
   "pygments_lexer": "ipython3",
   "version": "3.9.7"
  }
 },
 "nbformat": 4,
 "nbformat_minor": 5
}
