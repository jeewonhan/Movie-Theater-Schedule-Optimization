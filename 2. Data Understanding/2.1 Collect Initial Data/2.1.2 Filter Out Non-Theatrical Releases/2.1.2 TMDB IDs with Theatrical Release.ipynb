{
 "cells": [
  {
   "cell_type": "markdown",
   "id": "bca75685-95be-479c-87a5-cf2c5f41534f",
   "metadata": {},
   "source": [
    "## Description\n",
    "#### Purpose: To filter out movies on TMDB without a theatrical release.\n",
    "#### Input: `2.1.1_TMDB_IDs_2010_2023.csv`\n",
    "#### Output: `2.1.2_TMDB_IDs_Theatrical.csv`\n",
    "TMDB houses metadata on movies of all forms, including those that were not released in theaters. Since this project is concerned with only the movies premiering in theaters, this notebook filters out movies with non-theatrical releases."
   ]
  },
  {
   "cell_type": "code",
   "execution_count": null,
   "id": "4979ed9c",
   "metadata": {
    "tags": []
   },
   "outputs": [],
   "source": [
    "from tmdbv3api import TMDb\n",
    "from tmdbv3api import Movie\n",
    "from tmdbv3api.exceptions import TMDbException\n",
    "import random\n",
    "import pandas as pd\n",
    "import csv\n",
    "tmdb=TMDb()\n",
    "tmdb.api_key=' '\n",
    "    ## API key redacted\n",
    "tmdb.language='en'\n",
    "movie=Movie()"
   ]
  },
  {
   "cell_type": "code",
   "execution_count": null,
   "id": "d94e147a",
   "metadata": {},
   "outputs": [],
   "source": [
    "num_movies=0\n",
    "i=1\n",
    "\n",
    "# File Path for csv from 2.1.1\n",
    "csv_file_path='../2.1.1 Get TMDB IDs 2010-2023/Outputs/2.1.1_TMDB_IDs_2010_2023.csv'\n",
    "\n",
    "# Create a list to store movie IDs\n",
    "movie_data=[]\n",
    "\n",
    "# Make a set of IDs to check against\n",
    "written_movie_ids=set()\n",
    "\n",
    "with open(csv_file_path,'r') as csv_file:\n",
    "    csv_reader=csv.reader(csv_file)\n",
    "    next(csv_reader) # Skip the header row\n",
    "    \n",
    "    # Loop until the end of the CSV\n",
    "    while True:\n",
    "        try:\n",
    "            row=next(csv_reader)\n",
    "            movie_id=int(row[1])\n",
    "            \n",
    "            # Query movie details by ID\n",
    "            movie_info=movie.details(movie_id)\n",
    "            if movie_info:\n",
    "                release_dates=movie_info.get('release_dates',{})\n",
    "                results=release_dates.get('results',[])\n",
    "\n",
    "                for result in results:\n",
    "                    for release_date in result.get('release_dates',[]):\n",
    "                        # If release is theatrical:\n",
    "                        if release_date.get('type')==3:\n",
    "                            # Write the movie ID to the list\n",
    "                            if movie_id not in written_movie_ids:\n",
    "                                movie_data.append(movie_id)\n",
    "                                written_movie_ids.add(movie_id) # Add the movie ID to the set\n",
    "                                num_movies+=1\n",
    "                                if num_movies % 1000 == 0:\n",
    "                                    print(f\"Processed {num_movies} movies\")\n",
    "        except StopIteration:\n",
    "            break\n",
    "        except Exception as e:\n",
    "            # Handle any exceptions\n",
    "            print(f\"Error processing movie ID {movie_id}:{e}\")\n",
    "            \n",
    "# Create a DataFrame from the movie_data list\n",
    "df=pd.DataFrame({'ID': movie_data})\n",
    "\n",
    "# Add an index column\n",
    "df.insert(0,'Index',range(1, len(df) + 1))\n",
    "\n",
    "# Save \n",
    "file_name='./Outputs/2.1.2_TMDB_IDs_Theatrical.csv'\n",
    "df.to_csv(file_name,index=False)\n",
    "print(f\"Operation Complete\")"
   ]
  },
  {
   "cell_type": "code",
   "execution_count": null,
   "id": "7e502d9a-b522-497e-afd7-a1829b6b11d8",
   "metadata": {},
   "outputs": [],
   "source": []
  }
 ],
 "metadata": {
  "kernelspec": {
   "display_name": "Python 3 (ipykernel)",
   "language": "python",
   "name": "python3"
  },
  "language_info": {
   "codemirror_mode": {
    "name": "ipython",
    "version": 3
   },
   "file_extension": ".py",
   "mimetype": "text/x-python",
   "name": "python",
   "nbconvert_exporter": "python",
   "pygments_lexer": "ipython3",
   "version": "3.9.7"
  }
 },
 "nbformat": 4,
 "nbformat_minor": 5
}
