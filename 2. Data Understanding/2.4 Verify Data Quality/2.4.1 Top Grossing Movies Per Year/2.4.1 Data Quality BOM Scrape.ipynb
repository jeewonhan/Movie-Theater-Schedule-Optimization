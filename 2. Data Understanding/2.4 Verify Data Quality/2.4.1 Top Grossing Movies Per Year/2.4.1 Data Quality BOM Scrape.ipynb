{
 "cells": [
  {
   "cell_type": "markdown",
   "metadata": {
    "tags": []
   },
   "source": [
    "## Description\n",
    "\n",
    "#### Purpose: To scrape Top Grossing Movies per year as reported by Box Office Mojo for data quality check.\n",
    "\n",
    "#### Outputs: `{year}top_box_office.xlsx`\n",
    "\n",
    "This notebok scrapes Box Office Mojo for the 199 Top Grossing Movies for each year to compare against for a data quality check. In theory, every top grossing movie should be in our dataset."
   ]
  },
  {
   "cell_type": "code",
   "execution_count": null,
   "metadata": {},
   "outputs": [],
   "source": [
    "#!pip install beautifulsoup4\n",
    "#!pip3 install html5lib   "
   ]
  },
  {
   "cell_type": "code",
   "execution_count": null,
   "metadata": {},
   "outputs": [],
   "source": [
    "from bs4 import BeautifulSoup\n",
    "import requests\n",
    "import html5lib\n",
    "import numpy as np\n",
    "import re\n",
    "import pandas as pd"
   ]
  },
  {
   "cell_type": "code",
   "execution_count": null,
   "metadata": {},
   "outputs": [],
   "source": [
    "# This gets the worldwide revenues\n",
    "def get_data(sp, df):\n",
    "    rev = {}\n",
    "    table = sp.find(\"div\", id='table')\n",
    "    rows = []\n",
    "    for i, row in enumerate(table.find_all('tr')):\n",
    "        if i != 0:\n",
    "            rows.append([el.text.strip() for el in row.find_all('td')])\n",
    "    for row in rows:\n",
    "        df = df.append({'Title' : row[1], 'Revenue' : row[5]}, ignore_index = True)\n",
    "    return df"
   ]
  },
  {
   "cell_type": "code",
   "execution_count": null,
   "metadata": {},
   "outputs": [],
   "source": [
    "import pandas as pd\n",
    "\n",
    "for year in range(2013,2024):\n",
    "    df = pd.DataFrame(columns = ['Title', 'Revenue'])\n",
    "    URL = f\"https://www.boxofficemojo.com/year/{year}/?grossesOption=totalGrosses\"\n",
    "    page = requests.get(URL)\n",
    "    soup = BeautifulSoup(page.content, \"html.parser\")\n",
    "    df = get_data(soup, df)\n",
    "    \n",
    "    # Specify the file path to save the results\n",
    "    output_excel_file = f\"{year}_top_box_office.xlsx\"  \n",
    "\n",
    "    # Save the results to an Excel file\n",
    "    df.to_excel(output_excel_file, index=False)\n",
    "\n",
    "    print(\"Complete\")"
   ]
  }
 ],
 "metadata": {
  "kernelspec": {
   "display_name": "Python 3 (ipykernel)",
   "language": "python",
   "name": "python3"
  },
  "language_info": {
   "codemirror_mode": {
    "name": "ipython",
    "version": 3
   },
   "file_extension": ".py",
   "mimetype": "text/x-python",
   "name": "python",
   "nbconvert_exporter": "python",
   "pygments_lexer": "ipython3",
   "version": "3.9.7"
  }
 },
 "nbformat": 4,
 "nbformat_minor": 4
}
