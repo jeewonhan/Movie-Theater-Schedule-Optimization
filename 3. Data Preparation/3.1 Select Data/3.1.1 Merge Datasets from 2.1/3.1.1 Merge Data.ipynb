{
 "cells": [
  {
   "cell_type": "markdown",
   "id": "2a9392e8-e52e-447a-b36c-663a2a873635",
   "metadata": {
    "tags": []
   },
   "source": [
    "## Description\n",
    "\n",
    "#### Purpose: To merge the TMDB movie details, TMDB movie credits, and BOM data CSVs.\n",
    "\n",
    "#### Inputs: `2.1.3_TMDB_Movie_Details.csv`, `2.1.4_TMDB_Movie_Credits.csv`, `2.1.6_BOM_Data.csv`\n",
    "\n",
    "#### Outputs: `3.1.1_TMDB_Details_Credits_Merged.csv`,`3.1.1_TMDB_BOM_Merged.csv`\n",
    "\n",
    "This notebook merges TMDB and BOM data using inner joins using TMDB and IMDb IDs."
   ]
  },
  {
   "cell_type": "code",
   "execution_count": null,
   "id": "5fd6b3c6-544e-4866-91d0-dee1b47528bf",
   "metadata": {},
   "outputs": [],
   "source": [
    "import pandas as pd\n",
    "import csv\n",
    "\n",
    "# Merge TMDB Movie Details and Credits\n",
    "\n",
    "# Initialize csv file paths\n",
    "csv_file_path1 = '../../../2. Data Understanding/2.1 Collect Initial Data/2.1.3 Get TMDB Movie Details/Outputs/2.1.3_TMDB_Movie_Details.csv'\n",
    "csv_file_path2 = '../../../2. Data Understanding/2.1 Collect Initial Data/2.1.4 Get TMDB Movie Credits/Outputs/2.1.4_TMDB_Movie_Credits.csv'\n",
    "\n",
    "# Create DataFrames from both CSV files\n",
    "df1 = pd.read_csv(csv_file_path1)\n",
    "df2 = pd.read_csv(csv_file_path2)\n",
    "\n",
    "# Merge the two DataFrames by matching rows based on TMDB ID\n",
    "merged_df = pd.merge(df1, df2, left_on='ID', right_on='movie_id', how='inner')\n",
    "merged_df.dropna(subset=['IMDB ID'], inplace=True)\n",
    "\n",
    "# Save the merged data to a new csv\n",
    "file_name = '/Outputs/3.1.1_TMDB_Details_Credits_Merged.csv'\n",
    "merged_df.to_csv(file_name, index=False)\n",
    "print(f\"Operation Complete\")"
   ]
  },
  {
   "cell_type": "code",
   "execution_count": null,
   "id": "1d169139-8d3a-43e5-be43-d7105c0e09de",
   "metadata": {},
   "outputs": [],
   "source": [
    "# Merge TMDB and BOM data\n",
    "\n",
    "# Initialize csv file paths\n",
    "csv_file_path1 = '/Outputs/3.1.1_TMDB_Details_Credits_Merged.csv'\n",
    "csv_file_path2 = '../../../2. Data Understanding/2.1 Collect Initial Data/2.1.6 Box Office Mojo Scrape/Outputs/2.1.6_BOM_Data.csv'\n",
    "\n",
    "# Create DataFrames from both CSV files\n",
    "df1 = pd.read_csv(csv_file_path1)\n",
    "df2 = pd.read_csv(csv_file_path2)\n",
    "\n",
    "# Merge the two DataFrames by matching rows based on IMDb ID\n",
    "merged_df = pd.merge(df1, df2, left_on='IMDB ID', right_on='IMDB ID', how='inner')\n",
    "merged_df.dropna(subset=['IMDB ID'], inplace=True)\n",
    "\n",
    "# Save the merged data to a new csv\n",
    "file_name = '/Outputs/3.1.1_TMDB_BOM_Merged.csv'\n",
    "merged_df.to_csv(file_name, index=False)\n",
    "print(f\"Operation Complete\")"
   ]
  }
 ],
 "metadata": {
  "kernelspec": {
   "display_name": "Python 3 (ipykernel)",
   "language": "python",
   "name": "python3"
  },
  "language_info": {
   "codemirror_mode": {
    "name": "ipython",
    "version": 3
   },
   "file_extension": ".py",
   "mimetype": "text/x-python",
   "name": "python",
   "nbconvert_exporter": "python",
   "pygments_lexer": "ipython3",
   "version": "3.9.7"
  }
 },
 "nbformat": 4,
 "nbformat_minor": 5
}
