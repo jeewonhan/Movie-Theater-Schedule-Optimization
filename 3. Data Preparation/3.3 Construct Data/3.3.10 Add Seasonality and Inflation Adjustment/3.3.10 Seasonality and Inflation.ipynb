{
 "cells": [
  {
   "cell_type": "markdown",
   "metadata": {
    "jp-MarkdownHeadingCollapsed": true,
    "tags": []
   },
   "source": [
    "## Description\n",
    "\n",
    "#### Purpose: To engineer 'season' and 'holiday' variables and adjust budget/revenue figurs for inflation using CPI.\n",
    "\n",
    "#### Input: `3.3.9b_Merged_Data_MPAA_Encoded.csv`\n",
    "\n",
    "#### Outputs: `3.3.10_Merged_Data_Seasonality_Inflation.csv`\n",
    "\n",
    "This notebook engineers variables capturing seasonality and then adjusts for inflation using a standard comparision of CPI to 1983.\n",
    "\n",
    "The rationale for engineering features for seasonality is that May, June, and July are consistently the best months for a theatrical release while February, March, and April are dead months. Holiday releases also typically fare better. "
   ]
  },
  {
   "cell_type": "code",
   "execution_count": null,
   "metadata": {},
   "outputs": [],
   "source": [
    "from datetime import datetime\n",
    "import pandas as pd"
   ]
  },
  {
   "cell_type": "code",
   "execution_count": null,
   "metadata": {},
   "outputs": [],
   "source": [
    "def to_dt(release_date):\n",
    "    try:\n",
    "        date_l = release_date.split(\"(\")[0]\n",
    "        # Sample string representing a date\n",
    "        date_string = date_l.strip()\n",
    "\n",
    "        # Convert the string to a datetime object\n",
    "        datetime_object = datetime.strptime(date_string, '%B %d, %Y')\n",
    "        return datetime_object\n",
    "    except:\n",
    "        return pd.NaT"
   ]
  },
  {
   "cell_type": "code",
   "execution_count": null,
   "metadata": {},
   "outputs": [],
   "source": [
    "df = pd.read_csv(\"./data_with_encoded_mpaa.csv\")\n",
    "df['US Release Date'] = pd.to_datetime(df['US Release Date'], errors='coerce')"
   ]
  },
  {
   "cell_type": "code",
   "execution_count": null,
   "metadata": {},
   "outputs": [],
   "source": [
    "def split_by_month(date):\n",
    "    try:\n",
    "        if date.month in {5,6,7}:\n",
    "            return \"MJJ_3\"\n",
    "        elif date.month in {8,9,10}:\n",
    "            return \"ASO_4\"\n",
    "        elif date.month in {11,12,1}:\n",
    "            return \"NDJ_1\"\n",
    "        elif date.month in {2,3,4}:\n",
    "            return \"FMA_2\"\n",
    "    except:\n",
    "        return pd.NA"
   ]
  },
  {
   "cell_type": "code",
   "execution_count": null,
   "metadata": {},
   "outputs": [],
   "source": [
    "df[\"Season\"] = df.apply(lambda x: split_by_month(x[\"US Release Date\"]), axis=1)"
   ]
  },
  {
   "cell_type": "code",
   "execution_count": null,
   "metadata": {},
   "outputs": [],
   "source": [
    "df[\"Season\"]"
   ]
  },
  {
   "cell_type": "code",
   "execution_count": null,
   "metadata": {},
   "outputs": [],
   "source": [
    "from datetime import datetime, timedelta, date\n",
    "import holidays\n",
    "def replace_date_with_datetime(input_dict):\n",
    "    \"\"\"\n",
    "    Replace keys that are datetime.date objects with datetime.datetime objects.\n",
    "\n",
    "    Parameters:\n",
    "    input_dict (dict): The dictionary with datetime.date keys.\n",
    "\n",
    "    Returns:\n",
    "    dict: A new dictionary with datetime.datetime keys.\n",
    "    \"\"\"\n",
    "    new_dict = {}\n",
    "    for key, value in input_dict.items():\n",
    "        # Check if the key is a datetime.date object and not a datetime object\n",
    "        if isinstance(key, date) and not isinstance(key, datetime):\n",
    "            # Convert to datetime.datetime\n",
    "            new_key = datetime(key.year, key.month, key.day)\n",
    "        else:\n",
    "            # Keep the key as it is\n",
    "            new_key = key\n",
    "        new_dict[new_key] = value\n",
    "\n",
    "    return new_dict\n",
    "\n",
    "def is_near_holiday(input_date, country='US', days_before=7, days_after=5):\n",
    "    \"\"\"\n",
    "    Check if a given date is within a week prior to or 5 days after a US holiday.\n",
    "\n",
    "    Parameters:\n",
    "    input_date (datetime): The date to check.\n",
    "    country (str): The country code for the holidays. Default is 'US'.\n",
    "\n",
    "    Returns:\n",
    "    bool: True if the date is near a holiday, False otherwise.\n",
    "    \"\"\"\n",
    "    us_holidays = holidays.CountryHoliday(country, years= [2010,2011,2012,2013,2014,2015,2016,2017,2018,2019,2020,2021,2022,2023])\n",
    "    us_holidays = replace_date_with_datetime(us_holidays)\n",
    "    # Check a week before and 5 days after each holiday in the year of the input date\n",
    "    for date in us_holidays.keys():\n",
    "        if input_date.timestamp() >= (date - timedelta(days=days_before)).timestamp() and input_date.timestamp() <= (date + timedelta(days=days_after)).timestamp():\n",
    "            return True\n",
    "\n",
    "    return False\n",
    "\n",
    "example_date = datetime(2020, 12, 25)  # New Year's Day in 2023\n",
    "print(is_near_holiday(example_date))"
   ]
  },
  {
   "cell_type": "code",
   "execution_count": null,
   "metadata": {},
   "outputs": [],
   "source": [
    "df[\"Holiday\"] = df.apply(lambda x: is_near_holiday(x[\"US Release Date\"]), axis=1)\n",
    "df[\"Holiday\"]"
   ]
  },
  {
   "cell_type": "code",
   "execution_count": null,
   "metadata": {},
   "outputs": [],
   "source": [
    "df[df[\"Holiday\"] == True]"
   ]
  },
  {
   "cell_type": "code",
   "execution_count": null,
   "metadata": {},
   "outputs": [],
   "source": [
    "for col in df.columns:\n",
    "    print(col)"
   ]
  },
  {
   "cell_type": "code",
   "execution_count": null,
   "metadata": {},
   "outputs": [],
   "source": [
    "import cpi\n",
    "import numpy as np\n",
    "\n",
    "def inflate(date, dollars):\n",
    "    try:\n",
    "        if date.year == 2023:\n",
    "            multiplier = 100/302.9\n",
    "            return dollars * multiplier\n",
    "        else:\n",
    "            return cpi.inflate(dollars, date.year, to=1983) #when cpi was 100\n",
    "    except:\n",
    "        return np.nan\n"
   ]
  },
  {
   "cell_type": "code",
   "execution_count": null,
   "metadata": {},
   "outputs": [],
   "source": [
    "df[\"Adj Merged Budget\"] = df.apply(lambda x: inflate(x[\"US Release Date\"], x[\"Merged Budget\"]), axis=1)\n",
    "df[\"Adj Merged Revenue\"] = df.apply(lambda x: inflate(x[\"US Release Date\"], x[\"Merged Revenue\"]), axis=1)\n",
    "df[[\"IMDB ID\", \"Adj Merged Budget\", \"Merged Budget\"]]"
   ]
  },
  {
   "cell_type": "code",
   "execution_count": null,
   "metadata": {},
   "outputs": [],
   "source": [
    "df.to_csv('/Outputs/3.3.10_Merged_Data_Seasonality_Inflation.csv')"
   ]
  }
 ],
 "metadata": {
  "kernelspec": {
   "display_name": "Python 3 (ipykernel)",
   "language": "python",
   "name": "python3"
  },
  "language_info": {
   "codemirror_mode": {
    "name": "ipython",
    "version": 3
   },
   "file_extension": ".py",
   "mimetype": "text/x-python",
   "name": "python",
   "nbconvert_exporter": "python",
   "pygments_lexer": "ipython3",
   "version": "3.9.7"
  }
 },
 "nbformat": 4,
 "nbformat_minor": 4
}
