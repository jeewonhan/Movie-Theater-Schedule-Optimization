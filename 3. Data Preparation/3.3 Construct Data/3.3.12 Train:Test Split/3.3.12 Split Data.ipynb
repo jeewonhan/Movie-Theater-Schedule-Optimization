{
 "cells": [
  {
   "cell_type": "markdown",
   "id": "e1add301-2d20-4d41-9d3d-7c6db9f67fab",
   "metadata": {},
   "source": [
    "## Description\n",
    "\n",
    "#### Purpose: To split the data into train and test sets for modeling.\n",
    "\n",
    "#### Input: `3.3.11_Final_Unsplit_Data.csv`\n",
    "\n",
    "#### Outputs: `3.3.12_Full_Data_Categorical.csv`, `3.3.12_Full_Train_Data_Categorical.csv`, `3.3.12_Full_Test_Data_Categorical.csv`\n",
    "\n",
    "This notebook splits the data into train/test sets based on year. All movies released in 2022 and after are assigned to the test set and all other movies are assigned to the train set. This split simulates the conditions for the final model, in which it will need to predict revenue for upcoming movies based on revenue data for past movies."
   ]
  },
  {
   "cell_type": "code",
   "execution_count": null,
   "id": "ae95bcb4-0434-4915-b416-83acb9a6b639",
   "metadata": {},
   "outputs": [],
   "source": [
    "from tmdbv3api import TMDb\n",
    "from tmdbv3api import Movie\n",
    "from tmdbv3api.exceptions import TMDbException\n",
    "import random\n",
    "import pandas as pd\n",
    "import csv\n",
    "import numpy as np\n",
    "from math import exp\n",
    "import ast\n",
    "tmdb=TMDb()\n",
    "tmdb.api_key=' '\n",
    "    # API key redacted"
   ]
  },
  {
   "cell_type": "code",
   "execution_count": null,
   "id": "ac31909c-82a9-4f74-a638-7fb6fe1dc141",
   "metadata": {},
   "outputs": [],
   "source": [
    "# Initialize csv file paths\n",
    "csv_file_path= '../3.3.11 Normalize Star Score/Outputs/3.3.11_Final_Unsplit_Data.csv'\n",
    "df = pd.read_csv(csv_file_path)\n",
    "df = df[df['Genre Name'] != '[]']"
   ]
  },
  {
   "cell_type": "code",
   "execution_count": null,
   "id": "4aa9debf-5d7a-4385-a554-01eb03deed1c",
   "metadata": {},
   "outputs": [],
   "source": [
    "df_full_model = df.copy(deep = True)"
   ]
  },
  {
   "cell_type": "code",
   "execution_count": null,
   "id": "e10bd792-a7ce-4466-8550-dbbf1e52c662",
   "metadata": {},
   "outputs": [],
   "source": [
    "df_test = df[(df['Release Year'] == 2022) | (df['Release Year'] == 2023)]"
   ]
  },
  {
   "cell_type": "code",
   "execution_count": null,
   "id": "0654c0d1-6f5a-4ac3-b7d5-26a75e28261e",
   "metadata": {},
   "outputs": [],
   "source": [
    "df_train = df[df['Release Year'] < 2022]"
   ]
  },
  {
   "cell_type": "code",
   "execution_count": null,
   "id": "ab03ae2c-41c8-4358-81ff-659d5be3154e",
   "metadata": {},
   "outputs": [],
   "source": [
    "df_full_model.to_csv('Outputs/3.3.12_Full_Data_Categorical.csv')\n",
    "df_train.to_csv('Outputs/3.3.12_Full_Train_Data_Categorical.csv')\n",
    "df_test.to_csv('Outputs/3.3.12_Full_Test_Data_Categorical.csv')"
   ]
  }
 ],
 "metadata": {
  "kernelspec": {
   "display_name": "Python 3 (ipykernel)",
   "language": "python",
   "name": "python3"
  },
  "language_info": {
   "codemirror_mode": {
    "name": "ipython",
    "version": 3
   },
   "file_extension": ".py",
   "mimetype": "text/x-python",
   "name": "python",
   "nbconvert_exporter": "python",
   "pygments_lexer": "ipython3",
   "version": "3.9.7"
  }
 },
 "nbformat": 4,
 "nbformat_minor": 5
}
