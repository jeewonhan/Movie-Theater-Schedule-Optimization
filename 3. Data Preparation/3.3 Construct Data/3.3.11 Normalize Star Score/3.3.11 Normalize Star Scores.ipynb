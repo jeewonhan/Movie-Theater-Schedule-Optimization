{
 "cells": [
  {
   "cell_type": "markdown",
   "id": "793554c4-db3a-4b47-80b9-2ffeff2a3b93",
   "metadata": {},
   "source": [
    "## Description\n",
    "\n",
    "#### Purpose: To normalize scores for use in regression models with assumptions of normality.\n",
    "\n",
    "#### Input: `3.3.10_Merged_Data_Seasonality_Inflation.csv`\n",
    "\n",
    "#### Outputs: `3.3.11_Final_Unsplit_Data.csv`\n",
    "\n",
    "This notebook normalizes star, production company, director, and distributor scores. To do so effectively, a small amount of noise is added to values of 0. Histograms are plotted to check normality."
   ]
  },
  {
   "cell_type": "code",
   "execution_count": null,
   "id": "d12c0bba-53e8-4f9f-a588-8e73b4e401fd",
   "metadata": {},
   "outputs": [],
   "source": [
    "from tmdbv3api import TMDb\n",
    "from tmdbv3api import Movie\n",
    "from tmdbv3api.exceptions import TMDbException\n",
    "import random\n",
    "import pandas as pd\n",
    "import csv\n",
    "import numpy as np\n",
    "from math import exp\n",
    "import ast\n",
    "tmdb=TMDb()\n",
    "tmdb.api_key=' '\n",
    "    # API key redacted"
   ]
  },
  {
   "cell_type": "code",
   "execution_count": null,
   "id": "f14ba905-3ff0-4e34-80fe-2402cfe32603",
   "metadata": {},
   "outputs": [],
   "source": [
    "# Initialize csv file path\n",
    "csv_file_path= '../3.3.10 Add Seasonality and Inflation Adjustment/Outputs/3.3.10_Merged_Data_Seasonality_Inflation.csv'\n",
    "df = pd.read_csv(csv_file_path)"
   ]
  },
  {
   "cell_type": "code",
   "execution_count": null,
   "id": "230637d1-f64f-420b-9ed2-f58e79b972a6",
   "metadata": {},
   "outputs": [],
   "source": [
    "# Create a new column based on the condition\n",
    "df['Has Star Score'] = np.where(df['Unweighted Star Score'] == 0, 0, 1)\n",
    "df['Has Director Score'] = np.where(df['Total Director Score'] == 0, 0, 1)\n",
    "df['Has Production Company Score'] = np.where(df['Total Production Company Score'] == 0, 0, 1)\n",
    "df['Has Domestic Distributor Score'] = np.where(df['Domestic Distributor Score'] == 0, 0, 1)"
   ]
  },
  {
   "cell_type": "code",
   "execution_count": null,
   "id": "faaecdc6-6ca8-48e4-be5c-5b862db2c4c8",
   "metadata": {},
   "outputs": [],
   "source": [
    "from sklearn.preprocessing import QuantileTransformer\n",
    "\n",
    "columns_to_normalize = ['Unweighted Star Score', 'Simple Weight Star Score', 'Log Weight Star Score', 'Exponential Weight Star Score', 'Total Director Score', 'Avg Director Score', 'Total Production Company Score', 'Avg Production Company Score','Domestic Distributor Score']\n",
    "\n",
    "for column in columns_to_normalize:\n",
    "    # Define the range for the random noise\n",
    "    noise_range = 1\n",
    "    # Replace zero values with random noise within the specified range\n",
    "    mask = (df[column] == 0)\n",
    "    df.loc[mask, column] = np.random.uniform(low=0, high=noise_range, size=mask.sum())\n",
    "    star_scores = df[column]\n",
    "    qt = QuantileTransformer(output_distribution='normal')\n",
    "    normalized_scores = qt.fit_transform(star_scores.values.reshape(-1, 1))\n",
    "    normalized_scores_df = pd.DataFrame(normalized_scores)\n",
    "    normalized_scores_df.hist(bins = 100)\n",
    "    new_column_name = f'{column}_normalized'  # Create a new column name\n",
    "    df[new_column_name] = normalized_scores_df\n",
    "\n",
    "df.to_csv(\"/Outputs/3.3.11_Final_Unsplit_Data.csv\", index = False)"
   ]
  }
 ],
 "metadata": {
  "kernelspec": {
   "display_name": "Python 3 (ipykernel)",
   "language": "python",
   "name": "python3"
  },
  "language_info": {
   "codemirror_mode": {
    "name": "ipython",
    "version": 3
   },
   "file_extension": ".py",
   "mimetype": "text/x-python",
   "name": "python",
   "nbconvert_exporter": "python",
   "pygments_lexer": "ipython3",
   "version": "3.9.7"
  }
 },
 "nbformat": 4,
 "nbformat_minor": 5
}
