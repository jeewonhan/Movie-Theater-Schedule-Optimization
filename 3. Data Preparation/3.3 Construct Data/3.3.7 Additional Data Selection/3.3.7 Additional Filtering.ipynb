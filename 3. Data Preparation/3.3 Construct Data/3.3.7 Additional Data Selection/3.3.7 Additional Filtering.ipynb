{
 "cells": [
  {
   "cell_type": "markdown",
   "id": "2bf06d77-f64f-4f52-9e24-3b1ec71a26f8",
   "metadata": {},
   "source": [
    "## Description\n",
    "\n",
    "#### Purpose: To filter out movies where IMDb (Box Office Mojo) Revenue is 0 and short films.\n",
    "\n",
    "#### Input: `3.3.6_Merged_Data_US_Dates.csv`\n",
    "\n",
    "#### Outputs: `3.3.7_Merged_Data_Filtered.csv`\n",
    "\n",
    "This code rops all rows of the dataset where IMDb Revenue is 0 or Runtime is less than 60."
   ]
  },
  {
   "cell_type": "code",
   "execution_count": null,
   "id": "25eea4fe",
   "metadata": {},
   "outputs": [],
   "source": [
    "import pandas as pd\n",
    "file_path = '../3.3.6 Merge Revenues and Budgets/Outputs/3.3.6_Merged_Data_US_Dates.csv'\n",
    "data = pd.read_csv(file_path)\n",
    "\n",
    "# drop rows with runtime < 60\n",
    "drop = data[data['Runtime'] < 60]\n",
    "modified = data.drop(drop.index)\n",
    "\n",
    "# drop rows with no IMDB domestic revenue\n",
    "drop = modified[modified['IMDB Domestic Revenue'] == 0]\n",
    "modified = modified.drop(drop.index)\n",
    "\n",
    "# drop rows without a US Release date\n",
    "modified = modified.dropna(subset=['US Release Date'], how = 'any')\n",
    "\n",
    "modified = modified.drop(columns=['Release Year', 'Raw Star Scores', 'Unweighted Star Score', 'Simple Weight Star Score', 'Log Weight Star Score', 'Exponential Weight Star Score', 'director_scores', 'production_company_scores'])"
   ]
  },
  {
   "cell_type": "code",
   "execution_count": null,
   "id": "89a1469d",
   "metadata": {},
   "outputs": [],
   "source": [
    "export_path = '.Outputs/3.3.7_Merged_Data_Filtered.csv'\n",
    "modified.to_csv(export_path, index=False)"
   ]
  }
 ],
 "metadata": {
  "kernelspec": {
   "display_name": "Python 3 (ipykernel)",
   "language": "python",
   "name": "python3"
  },
  "language_info": {
   "codemirror_mode": {
    "name": "ipython",
    "version": 3
   },
   "file_extension": ".py",
   "mimetype": "text/x-python",
   "name": "python",
   "nbconvert_exporter": "python",
   "pygments_lexer": "ipython3",
   "version": "3.9.7"
  }
 },
 "nbformat": 4,
 "nbformat_minor": 5
}
