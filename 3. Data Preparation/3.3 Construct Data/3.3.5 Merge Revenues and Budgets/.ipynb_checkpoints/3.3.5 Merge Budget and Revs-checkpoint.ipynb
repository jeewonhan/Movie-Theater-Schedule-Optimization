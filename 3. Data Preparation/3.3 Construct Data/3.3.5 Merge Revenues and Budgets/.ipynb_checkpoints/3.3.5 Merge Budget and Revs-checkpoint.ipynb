{
 "cells": [
  {
   "cell_type": "markdown",
   "id": "827af104-87ec-4fe7-891e-1303b1d6be7b",
   "metadata": {},
   "source": [
    "## Description\n",
    "\n",
    "#### Purpose: To consolidate budget and revenue data for TMDB and Box Office Mojo in cases of conflicting data and drop rows with 0 reported revenue.\n",
    "\n",
    "#### Input: `3.3.4_Merged_Data_Dir_Scores.csv`\n",
    "\n",
    "#### Outputs: `3.3.5_Merged_Budgets_Revs.csv`\n",
    "\n",
    "This notebook merges budget and revenue data for TMDB and Box Office Mojo budgets and revenues. If there is conflicting data, BOM supercedes TMDB. It also drops rows with no reported revenue since that is the key target variable in the model."
   ]
  },
  {
   "cell_type": "code",
   "execution_count": null,
   "id": "dc1ec1d7-1947-4c56-9556-dad6c96492af",
   "metadata": {},
   "outputs": [],
   "source": [
    "import pandas as pd"
   ]
  },
  {
   "cell_type": "code",
   "execution_count": null,
   "id": "3509acb8-cbe1-4fa7-be43-ebdc3ae2283c",
   "metadata": {},
   "outputs": [],
   "source": [
    "df = pd.read_csv('../3.3.4 Calculate Director Score/Outputs/3.3.4_Merged_Data_Dir_Scores.csv')\n",
    "df[\"Budget_x\"].fillna(0,inplace=True)\n",
    "df['Merged Budget'] = df.apply(lambda row: row['Budget_x'] if row['Budget_x'] != 0 else row['Budget_y'], axis=1)\n",
    "df['Merged Budget'] = df['Merged Budget'].apply(lambda x: 100000 if x < 100000 else x)\n",
    "\n",
    "print(df['Merged Budget'].head)\n",
    "\n",
    "df[\"domestic_revenue\"].fillna(0,inplace=True)\n",
    "df['Merged Revenue'] = df.apply(lambda row: row['domestic_revenue'] if row['domestic_revenue'] != 0 else row['Revenue_y'], axis=1)\n",
    "print(df[\"Merged Revenue\"])\n",
    "\n",
    "df = df[(df['Merged Budget'] != 0) & (df[\"Merged Revenue\"] != 0)]\n",
    "print(df.head)\n",
    "\n",
    "df.to_csv('/Outputs/3.3.5_Merged_Budgets_Revs.csv', index = False)"
   ]
  }
 ],
 "metadata": {
  "kernelspec": {
   "display_name": "Python 3 (ipykernel)",
   "language": "python",
   "name": "python3"
  },
  "language_info": {
   "codemirror_mode": {
    "name": "ipython",
    "version": 3
   },
   "file_extension": ".py",
   "mimetype": "text/x-python",
   "name": "python",
   "nbconvert_exporter": "python",
   "pygments_lexer": "ipython3",
   "version": "3.9.7"
  }
 },
 "nbformat": 4,
 "nbformat_minor": 5
}
