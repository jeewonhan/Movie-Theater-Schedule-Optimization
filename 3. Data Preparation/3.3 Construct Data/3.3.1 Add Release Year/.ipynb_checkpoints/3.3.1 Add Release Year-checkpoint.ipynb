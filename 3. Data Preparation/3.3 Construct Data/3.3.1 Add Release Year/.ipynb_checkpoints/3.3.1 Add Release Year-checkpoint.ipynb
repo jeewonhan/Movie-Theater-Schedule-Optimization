{
 "cells": [
  {
   "cell_type": "markdown",
   "id": "59998a27-16a0-45b8-845c-b78ce22472a7",
   "metadata": {
    "tags": []
   },
   "source": [
    "## Description\n",
    "\n",
    "#### Purpose: To add a 'release year' feature using release date.\n",
    "\n",
    "#### Input: `3.1.1_TMDB_BOM_Merged.csv`\n",
    "\n",
    "#### Outputs: `3.3.1_Merged_Release_Yr.csv`\n",
    "\n",
    "The release year feature will be used for engineering scores such as star score, and production company score as well as adjusting for inflation."
   ]
  },
  {
   "cell_type": "code",
   "execution_count": null,
   "id": "c40db016-c9a8-49e3-9079-043d2d6cf712",
   "metadata": {},
   "outputs": [],
   "source": [
    "import pandas as pd\n",
    "from datetime import datetime"
   ]
  },
  {
   "cell_type": "code",
   "execution_count": null,
   "id": "7aceb12c-ddfe-42d5-8f5a-60a1e88bd833",
   "metadata": {},
   "outputs": [],
   "source": [
    "df = pd.read_csv('../../3.1 Select Data/3.3.1 Merge Datasets from 2.1/Outputs/3.1.1_TMDB_BOM_Merged.csv')\n",
    "release_dates = df[\"Release Date\"]\n",
    "\n",
    "release_years = []\n",
    "for year in release_dates:\n",
    "    date = datetime.strptime(year, '%m/%d/%y')\n",
    "    year = date.year\n",
    "    release_years.append(year)\n",
    "\n",
    "df['Release Year'] = release_years\n",
    "df.to_csv('/Outputs/3.3.1_Merged_Release_Yr.csv')"
   ]
  }
 ],
 "metadata": {
  "kernelspec": {
   "display_name": "Python 3 (ipykernel)",
   "language": "python",
   "name": "python3"
  },
  "language_info": {
   "codemirror_mode": {
    "name": "ipython",
    "version": 3
   },
   "file_extension": ".py",
   "mimetype": "text/x-python",
   "name": "python",
   "nbconvert_exporter": "python",
   "pygments_lexer": "ipython3",
   "version": "3.9.7"
  }
 },
 "nbformat": 4,
 "nbformat_minor": 5
}
