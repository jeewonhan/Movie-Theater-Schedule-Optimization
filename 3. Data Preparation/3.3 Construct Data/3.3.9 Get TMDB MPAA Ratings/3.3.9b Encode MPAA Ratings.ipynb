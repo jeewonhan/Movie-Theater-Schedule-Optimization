{
 "cells": [
  {
   "cell_type": "markdown",
   "id": "6e17b6d2-f4fc-4141-9687-2d3a6416d862",
   "metadata": {},
   "source": [
    "## Description\n",
    "\n",
    "#### Purpose: To merge and one-hot encode MPAA ratings from TMDB and Box Office Mojo.\n",
    "\n",
    "#### Input: `3.3.9a_Merged_Data_MPAA.csv`\n",
    "\n",
    "#### Outputs: `3.3.9b_Merged_Data_MPAA_Encoded.csv`\n",
    "\n",
    "This notebook consolidates MPAA ratings from TMDB and Box Office Mojo in the case of missing and overlapping data and then one-hot encodes the ratings. When data from both sources is available, preference is given to data from Box Office Mojo."
   ]
  },
  {
   "cell_type": "code",
   "execution_count": null,
   "id": "b4e886e5-3ac4-4f87-b4b3-5bda781eba2d",
   "metadata": {},
   "outputs": [],
   "source": [
    "from tmdbv3api import TMDb\n",
    "from tmdbv3api import Movie\n",
    "from tmdbv3api.exceptions import TMDbException\n",
    "import random\n",
    "import pandas as pd\n",
    "import csv\n",
    "import numpy as np\n",
    "from math import exp\n",
    "import ast\n",
    "tmdb=TMDb()\n",
    "tmdb.api_key=' '\n",
    "    # API key redacted"
   ]
  },
  {
   "cell_type": "code",
   "execution_count": null,
   "id": "fd03ba37-dbc2-46d3-9560-3032268adcef",
   "metadata": {},
   "outputs": [],
   "source": [
    "# Initialize csv file paths\n",
    "csv_file_path= '/Outputs/3.3.9a_Merged_Data_MPAA.csv'\n",
    "df = pd.read_csv(csv_file_path)"
   ]
  },
  {
   "cell_type": "code",
   "execution_count": null,
   "id": "c4eb7c37-40f3-413e-888b-942290e86093",
   "metadata": {},
   "outputs": [],
   "source": [
    "#Checks how the ratings are labeled to rename them before the merge\n",
    "tmdb_ratings = df['MPAA_TMDB'].unique()\n",
    "bom_ratings = df['MPAA'].unique()\n",
    "print(tmdb_ratings)\n",
    "print(bom_ratings)"
   ]
  },
  {
   "cell_type": "code",
   "execution_count": null,
   "id": "1e927070-eee9-4432-97dc-95fd09ab8cfb",
   "metadata": {},
   "outputs": [],
   "source": [
    "#Replace 'R ' with 'R' to clean the MPAA ratings from TMDB before the merge\n",
    "df['MPAA_TMDB'].replace({'R ': 'R'}, inplace=True)\n",
    "# Replace 'Unrated' or 'Not Rated' with 'NR' in MPAA before the merge\n",
    "df['MPAA'].replace({'Unrated': 'NR', 'Not Rated': 'NR'}, inplace=True)"
   ]
  },
  {
   "cell_type": "code",
   "execution_count": null,
   "id": "88ce7d29-278d-4df3-90f3-81410b463b25",
   "metadata": {},
   "outputs": [],
   "source": [
    "# Merge the two columns giving preference to Column 2\n",
    "df['Merged_MPAA'] = df['MPAA'].fillna(df['MPAA_TMDB'])\n",
    "df['Merged_MPAA'] = df['Merged_MPAA'].fillna('NR')\n",
    "\n",
    "#Identify unique rating strings\n",
    "ratings = df['Merged_MPAA'].unique()\n",
    "\n",
    "#One-hot encode the unique strings\n",
    "one_hot_encoded = pd.get_dummies(df['Merged_MPAA'], columns=ratings)\n",
    "\n",
    "#Join the one-hot encoded columns with the original DataFrame\n",
    "df_output = pd.concat([df, one_hot_encoded], axis=1)"
   ]
  },
  {
   "cell_type": "code",
   "execution_count": null,
   "id": "d551c238-4af6-45e0-a7ff-9b87e3655a8e",
   "metadata": {},
   "outputs": [],
   "source": [
    "df_output.to_csv('/Outputs/3.3.9b_Merged_Data_MPAA_Encoded.csv', index = False)"
   ]
  }
 ],
 "metadata": {
  "kernelspec": {
   "display_name": "Python 3 (ipykernel)",
   "language": "python",
   "name": "python3"
  },
  "language_info": {
   "codemirror_mode": {
    "name": "ipython",
    "version": 3
   },
   "file_extension": ".py",
   "mimetype": "text/x-python",
   "name": "python",
   "nbconvert_exporter": "python",
   "pygments_lexer": "ipython3",
   "version": "3.9.7"
  }
 },
 "nbformat": 4,
 "nbformat_minor": 5
}
