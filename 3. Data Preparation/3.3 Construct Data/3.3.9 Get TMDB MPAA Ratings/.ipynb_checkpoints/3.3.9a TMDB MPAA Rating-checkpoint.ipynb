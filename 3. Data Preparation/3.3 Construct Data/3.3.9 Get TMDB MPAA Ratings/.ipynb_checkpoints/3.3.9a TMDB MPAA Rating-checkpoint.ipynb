{
 "cells": [
  {
   "cell_type": "markdown",
   "metadata": {},
   "source": [
    "## Description\n",
    "\n",
    "#### Purpose: To get MPAA ratings from TMDB.\n",
    "\n",
    "#### Input: `3.3.8_Merged_Data_Dist_Scores.csv`\n",
    "\n",
    "#### Outputs: `3.3.9a_Merged_Data_MPAA.csv`\n",
    "\n",
    "This notebook retrieves MPAA ratings from TMDB, which was not initially retrieved in step 2.1 Collect Initial Data."
   ]
  },
  {
   "cell_type": "code",
   "execution_count": null,
   "metadata": {},
   "outputs": [],
   "source": [
    "from tmdbv3api import TMDb\n",
    "from tmdbv3api import Movie\n",
    "from tmdbv3api.exceptions import TMDbException\n",
    "import random\n",
    "import pandas as pd\n",
    "import csv\n",
    "tmdb=TMDb()\n",
    "tmdb.api_key=' '\n",
    "    # API key redacted\n",
    "tmdb.language='en'\n",
    "movie=Movie()"
   ]
  },
  {
   "cell_type": "code",
   "execution_count": null,
   "metadata": {},
   "outputs": [],
   "source": [
    "full_data = pd.read_csv('../3.3.8 Calculate Distributor Score/Outputs/3.3.8_Merged_Data_Dist_Scores.csv', header=0, index_col=0)\n",
    "tmdb_ids = full_data['TMDB ID']\n",
    "\n",
    "mpaa = {}\n",
    "for id in tmdb_ids:\n",
    "    try:\n",
    "        int_id = int(id)\n",
    "        movie_info=movie.details(int_id)\n",
    "        if movie_info:\n",
    "            release_dates=movie_info.get('release_dates',{})\n",
    "            results=release_dates.get('results',[])\n",
    "\n",
    "            for result in results:\n",
    "            # THIS (BELOW) IS THE LINE ADDED FOR US RELEASE DATE ONLY\n",
    "                if result.get('iso_3166_1')=='US':\n",
    "                    for release_date in result.get('release_dates',[]):\n",
    "                        if release_date.get('type')==3:\n",
    "                    #Write the movie ID to the list\n",
    "                            mpaa[int_id] = release_date.get('certification')\n",
    "    except:\n",
    "        pass"
   ]
  },
  {
   "cell_type": "code",
   "execution_count": null,
   "metadata": {},
   "outputs": [],
   "source": [
    "mpaa_df = pd.DataFrame({'TMDB ID': list(mpaa.keys()), 'MPAA_TMDB': list(mpaa.values())})\n",
    "full_data_mpaa = full_data.merge(mpaa_df, 'left', left_on='TMDB ID', right_on='TMDB ID')\n",
    "full_data_mpaa.to_csv('/Outputs/3.3.9a_Merged_Data_MPAA.csv')"
   ]
  }
 ],
 "metadata": {
  "kernelspec": {
   "display_name": "Python 3 (ipykernel)",
   "language": "python",
   "name": "python3"
  },
  "language_info": {
   "codemirror_mode": {
    "name": "ipython",
    "version": 3
   },
   "file_extension": ".py",
   "mimetype": "text/x-python",
   "name": "python",
   "nbconvert_exporter": "python",
   "pygments_lexer": "ipython3",
   "version": "3.9.7"
  }
 },
 "nbformat": 4,
 "nbformat_minor": 4
}
