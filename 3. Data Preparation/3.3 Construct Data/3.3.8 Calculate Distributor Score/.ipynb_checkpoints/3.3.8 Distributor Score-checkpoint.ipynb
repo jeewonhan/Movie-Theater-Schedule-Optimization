{
 "cells": [
  {
   "cell_type": "markdown",
   "id": "1a43ba5e-0c98-46e3-b045-5a88cbc0422e",
   "metadata": {},
   "source": [
    "## Description\n",
    "\n",
    "#### Purpose: To calculate distributor score using the dataset following similar methodology to *The Numbers*.\n",
    "\n",
    "#### Input: `3.3.7_Merged_Data_Filtered.csv`\n",
    "\n",
    "#### Outputs: `3.3.8_Merged_Data_Dist_Scores.csv`\n",
    "\n",
    "This notebook performs the same functions as `3.3.3 Production Company Score.ipynb` but for distributor score."
   ]
  },
  {
   "cell_type": "code",
   "execution_count": null,
   "id": "48130d42-5c0e-4224-b5bd-d22afd98e1f7",
   "metadata": {},
   "outputs": [],
   "source": [
    "from tmdbv3api import TMDb\n",
    "from tmdbv3api import Movie\n",
    "from tmdbv3api.exceptions import TMDbException\n",
    "import random\n",
    "import pandas as pd\n",
    "import csv\n",
    "import numpy as np\n",
    "from math import exp\n",
    "import ast\n",
    "tmdb=TMDb()\n",
    "tmdb.api_key=' '\n",
    "    # API key redacted"
   ]
  },
  {
   "cell_type": "code",
   "execution_count": null,
   "id": "36f5bb65-ec94-4270-9b1b-25830913ecb2",
   "metadata": {},
   "outputs": [],
   "source": [
    "# Initialize csv file path\n",
    "csv_file_path= '../3.3.7 Additional Filtering/Outputs/3.3.7_Merged_Data_Filtered.csv'\n",
    "df = pd.read_csv(csv_file_path)"
   ]
  },
  {
   "cell_type": "code",
   "execution_count": null,
   "id": "6c171c15-0035-4c1a-957d-5e346cd39c2a",
   "metadata": {},
   "outputs": [],
   "source": [
    "df['Movie Contribution to Director and Production Scores'] = 0\n",
    "\n",
    "#Calculates the contribution of a movie to a star score based on whether or not it was a top 100 domestic grossing movie of that year\n",
    "release_years = range(2010, 2024)\n",
    "#iterates through the years\n",
    "for year in release_years:\n",
    "    df_year = df[df[\"Release Year\"] == year]\n",
    "    #sorts by revenue (descending)\n",
    "    df_year = df_year.sort_values(by=['Merged Revenue'], ascending=False)\n",
    "    #iterate through top 100 movies, give them points based on the ranking (100 to the top grossing, 99 to the 2nd top, ..., 1 to the 100th)\n",
    "    for i in range(0,100):\n",
    "        tmdb_id_to_update = df_year['IMDB ID'].iloc[i]\n",
    "        #record the contribution in the dataframe\n",
    "        df.loc[df['IMDB ID'] == tmdb_id_to_update, 'Movie Contribution to Director and Production Scores'] = 100 - i"
   ]
  },
  {
   "cell_type": "code",
   "execution_count": null,
   "id": "c693af49-719a-4b91-935e-952cc41c94d9",
   "metadata": {},
   "outputs": [],
   "source": [
    "# Create a DataFrame with unique production company IDs\n",
    "unique_dist_ids = list(set(df['Domestic Distributor ID']))\n",
    "\n",
    "# Create a list of years from 2011 to 2023\n",
    "years = [str(year) for year in range(2010, 2024)]\n",
    "\n",
    "# Initialize the data with zeros\n",
    "data = {f'star_{year}': [0] * len(unique_dist_ids) for year in years}\n",
    "data['ids'] = unique_dist_ids\n",
    "\n",
    "# Create the 'output_df' DataFrame\n",
    "dist_df = pd.DataFrame(data)\n",
    "\n",
    "# Print the first few rows of the 'output_df' DataFrame for debugging\n",
    "print(dist_df.head())"
   ]
  },
  {
   "cell_type": "code",
   "execution_count": null,
   "id": "2244e41d-b698-45ee-ba66-371d8f62dd15",
   "metadata": {},
   "outputs": [],
   "source": [
    "import pandas as pd\n",
    "\n",
    "#Iterate through main data\n",
    "for index, row in df.iterrows():\n",
    "    dist_ids = row['Domestic Distributor ID']\n",
    "    # Iterate through each dist_id in the dist_ids list\n",
    "    for dist_id in [dist_ids]:\n",
    "        # Your existing code...\n",
    "        release_year = row['Release Year']\n",
    "        score_contribution = row['Movie Contribution to Director and Production Scores']\n",
    "        # Iterate through each dist_id in the dist_ids array\n",
    "        dist_df_row = dist_df[dist_df['ids'] == dist_id]\n",
    "        if not dist_df_row.empty:\n",
    "            dist_score = dist_df_row[f'star_{release_year}'].values[0]\n",
    "            # Add the contribution from the movie to the total star score for that company for that year\n",
    "            if not pd.isna(score_contribution):\n",
    "                dist_score += score_contribution\n",
    "            # Assign the updated production company score to the corresponding 'star_yyyy' column\n",
    "            dist_df.loc[dist_df['ids'] == dist_id, f'star_{release_year}'] = dist_score\n",
    "\n",
    "# Sum the star scores for the previous three years (beginning in 2012)\n",
    "output_dists = dist_df.copy(deep=True)\n",
    "\n",
    "for dist_id in dist_df['ids']:\n",
    "    for column in dist_df.columns:\n",
    "        if column.startswith(\"star_\"):\n",
    "            release_year = int(column.split(\"_\")[1])\n",
    "            if release_year > 2011:\n",
    "                previous_year = release_year - 1\n",
    "                year_before_previous = release_year - 2\n",
    "                dist_df_row = dist_df[dist_df['ids'] == dist_id]\n",
    "                if not dist_df_row.empty:\n",
    "                    dist_score = dist_df_row[column].values[0]\n",
    "                    # Calculate score from the previous year\n",
    "                    previous_year_score = dist_df_row[f'star_{previous_year}'].values[0]\n",
    "                    dist_score += previous_year_score\n",
    "                    # Calculate score from the year before the previous year\n",
    "                    year_before_previous_score = dist_df_row[f'star_{year_before_previous}'].values[0]\n",
    "                    dist_score += year_before_previous_score\n",
    "                    # Assign the updated director score to the corresponding 'star_year' column\n",
    "                    output_dists.loc[output_dists['ids'] == dist_id, column] = dist_score"
   ]
  },
  {
   "cell_type": "code",
   "execution_count": null,
   "id": "dbdeac7c",
   "metadata": {},
   "outputs": [],
   "source": [
    "print(output_dists.head())"
   ]
  },
  {
   "cell_type": "code",
   "execution_count": null,
   "id": "1d2b62bb-d1d5-45cd-94ce-6341f1e860b1",
   "metadata": {},
   "outputs": [],
   "source": [
    "# Save Raw Distributor Score Data\n",
    "output_dists.to_csv('domestic_dist_df.csv', index=False)"
   ]
  },
  {
   "cell_type": "code",
   "execution_count": null,
   "id": "ea37d718-1fd8-4abe-9c39-2e1f887fdb5d",
   "metadata": {},
   "outputs": [],
   "source": [
    "df_output = df.copy()  # Copy the original DataFrame\n",
    "df_output = df_output[df_output['Release Year'] > 2012]\n",
    "df_output['Domestic Distributor Score'] = 0  # create an empty star scores column\n",
    "\n",
    "for index, row in df_output.iterrows():\n",
    "    row_dist_info = row['Domestic Distributor ID']  # Extract prod_ids array\n",
    "    if isinstance(row_dist_info, int) and row_dist_info != 0:\n",
    "        row_dist_info = [row_dist_info]\n",
    "    else:\n",
    "        row_dist_info = []  # Set to an empty list if not an integer or if it's 0\n",
    "    # computes the sum of production company scores\n",
    "    for dist_id in row_dist_info:\n",
    "        release_date = row['Release Year']\n",
    "        previous_year = release_date - 1\n",
    "        dist_info_row = output_dists[output_dists['ids'] == dist_id]  # Get the row containing the queried prod id\n",
    "        star_column_name = f'star_{previous_year}'  # get the star score column for the previous year\n",
    "        star_score = dist_info_row[star_column_name].values[0]  # Use the previous year as the star score\n",
    "        if star_score is not None:\n",
    "            df_output.loc[df['IMDB ID'] == row['IMDB ID'], 'Domestic Distributor Score'] += star_score\n",
    "\n",
    "# Save to csv\n",
    "print(df_output.head())\n",
    "df_output.to_csv('Outputs/3.3.8_Merged_Data_Dist_Scores.csv', index=False)"
   ]
  }
 ],
 "metadata": {
  "kernelspec": {
   "display_name": "Python 3 (ipykernel)",
   "language": "python",
   "name": "python3"
  },
  "language_info": {
   "codemirror_mode": {
    "name": "ipython",
    "version": 3
   },
   "file_extension": ".py",
   "mimetype": "text/x-python",
   "name": "python",
   "nbconvert_exporter": "python",
   "pygments_lexer": "ipython3",
   "version": "3.9.7"
  }
 },
 "nbformat": 4,
 "nbformat_minor": 5
}
