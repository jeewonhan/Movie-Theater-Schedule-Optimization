{
 "cells": [
  {
   "cell_type": "markdown",
   "metadata": {},
   "source": [
    "## Description\n",
    "\n",
    "#### Purpose: To retrieve US release date.\n",
    "\n",
    "#### Input: `3.2_Cleaned_Merged_Data.csv`\n",
    "\n",
    "#### Outputs: `3.3.6_Merged_Data_US_Dates.csv`\n",
    "\n",
    "This notebook retrieves US release dates for movies by first getting the list of TMDB IDs, querying the release dates of each ID, and retrieving and reformatting U.S. release dates if they exist."
   ]
  },
  {
   "cell_type": "code",
   "execution_count": null,
   "metadata": {},
   "outputs": [],
   "source": [
    "from tmdbv3api import TMDb\n",
    "from tmdbv3api import Movie\n",
    "from tmdbv3api.exceptions import TMDbException\n",
    "import random\n",
    "import pandas as pd\n",
    "import csv\n",
    "tmdb=TMDb()\n",
    "tmdb.api_key=' '\n",
    "    # API key redacted\n",
    "tmdb.language='en'\n",
    "movie=Movie()"
   ]
  },
  {
   "cell_type": "code",
   "execution_count": null,
   "metadata": {},
   "outputs": [],
   "source": [
    "full_data = pd.read_csv('../../3.2 Clean Data/Outputs/3.2_Cleaned_Merged_Data.csv', header=0, index_col=0)\n",
    "tmdb_ids = full_data['TMDB ID']\n",
    "\n",
    "us_release_dates = {}\n",
    "for id in tmdb_ids:\n",
    "    try:\n",
    "        int_id = int(id)\n",
    "        movie_info=movie.details(int_id)\n",
    "        if movie_info:\n",
    "            release_dates=movie_info.get('release_dates',{})\n",
    "            results=release_dates.get('results',[])\n",
    "\n",
    "            for result in results:\n",
    "            # THIS (BELOW) IS THE LINE ADDED FOR US RELEASE DATE ONLY\n",
    "                if result.get('iso_3166_1')=='US':\n",
    "                    for release_date in result.get('release_dates',[]):\n",
    "                        if release_date.get('type')==3:\n",
    "                    #Write the movie ID to the list\n",
    "                            us_release_dates[int_id] = release_date.get('release_date')\n",
    "    except:\n",
    "        pass"
   ]
  },
  {
   "cell_type": "code",
   "execution_count": null,
   "metadata": {},
   "outputs": [],
   "source": [
    "us_release_df = pd.DataFrame({'TMDB ID': list(us_release_dates.keys()), 'US Release Date': list(us_release_dates.values())})\n",
    "full_data_us = full_data.merge(us_release_df, 'left', left_on='TMDB ID', right_on='TMDB ID')"
   ]
  },
  {
   "cell_type": "code",
   "execution_count": null,
   "metadata": {},
   "outputs": [],
   "source": [
    "full_data_us.to_csv('/Outputs/3.3.6_Merged_Data_US_Dates.csv')"
   ]
  }
 ],
 "metadata": {
  "kernelspec": {
   "display_name": "Python 3 (ipykernel)",
   "language": "python",
   "name": "python3"
  },
  "language_info": {
   "codemirror_mode": {
    "name": "ipython",
    "version": 3
   },
   "file_extension": ".py",
   "mimetype": "text/x-python",
   "name": "python",
   "nbconvert_exporter": "python",
   "pygments_lexer": "ipython3",
   "version": "3.9.7"
  }
 },
 "nbformat": 4,
 "nbformat_minor": 4
}
