{
 "cells": [
  {
   "cell_type": "markdown",
   "id": "f0e4c8fa-3c99-4b8e-8d8e-93ce39c38f86",
   "metadata": {},
   "source": [
    "## Description\n",
    "\n",
    "#### Purpose: To create different measures of 'star score' using actor popularity data from *The Numbers*.\n",
    "\n",
    "#### Input: Merged dataset with vector of raw scores, unsure where located\n",
    "\n",
    "#### Outputs: `3.3.2b_Merged_Data_Star_Scores.csv`\n",
    "\n",
    "This code turns the vector of raw star scores into summed star score values based on\n",
    "1. raw total,\n",
    "2. a logarithmic function based on billing order, and\n",
    "3. an expontential function based on billing order."
   ]
  },
  {
   "cell_type": "code",
   "execution_count": null,
   "id": "6bbf5e38-6bdf-4ed6-81ff-9cdca7f727a3",
   "metadata": {},
   "outputs": [],
   "source": [
    "from tmdbv3api import TMDb\n",
    "from tmdbv3api import Movie\n",
    "from tmdbv3api.exceptions import TMDbException\n",
    "import random\n",
    "import pandas as pd\n",
    "import csv\n",
    "import numpy as np\n",
    "import ast\n",
    "from math import exp\n",
    "from datetime import datetime\n",
    "tmdb=TMDb()\n",
    "tmdb.api_key=' '\n",
    "    # API key redacted"
   ]
  },
  {
   "cell_type": "code",
   "execution_count": null,
   "id": "b707ef43-112b-49cf-aece-6ff0c69b73b0",
   "metadata": {},
   "outputs": [],
   "source": [
    "#Calculates the weight for an individual star score based on billing order using a simple percent drop off system\n",
    "def calculate_star_score_with_weights_simple_version(billing_order,star_score):\n",
    "    if billing_order > 10:\n",
    "        return 0\n",
    "    else:\n",
    "        mod = 1 - (billing_order-1) * .1\n",
    "        star_score_mod = mod*star_score\n",
    "        return star_score_mod"
   ]
  },
  {
   "cell_type": "code",
   "execution_count": null,
   "id": "f3560745-0e19-4ba8-85b1-381a95350793",
   "metadata": {},
   "outputs": [],
   "source": [
    "#Calculates the weight for an individual star score based on billing order using a logarithmic weighting system\n",
    "def calculate_star_score_with_weights_log_version(billing_order,star_score):\n",
    "    # Define the shape parameters\n",
    "    X_0 = 4\n",
    "    k = 1.5\n",
    "    Z = k * (billing_order - X_0)\n",
    "    # Calculate the star score using the logistic function (can be modified)\n",
    "    mod = 1 - 1 / (1 + np.exp(-Z))\n",
    "    star_score_mod= star_score*mod\n",
    "    return star_score_mod"
   ]
  },
  {
   "cell_type": "code",
   "execution_count": null,
   "id": "27f69d64-48e6-4158-b28a-a7eb9883f894",
   "metadata": {},
   "outputs": [],
   "source": [
    "#Calculates the weight for an individual star score based on billing order using an exponential weighting system\n",
    "def calculate_star_score_with_weights_exponential_version(billing_order,star_score):\n",
    "    # Define the shape parameters\n",
    "    exp = 2\n",
    "    k = 0.2\n",
    "    # Calculate the star score using the logistic function (can be modified)\n",
    "    mod = 1 / (1 + (k)*(billing_order-1)**(exp))\n",
    "    star_score_mod=star_score*mod\n",
    "    return star_score_mod"
   ]
  },
  {
   "cell_type": "code",
   "execution_count": null,
   "id": "2fa41880-3e64-466d-bd59-f0e66fd532a6",
   "metadata": {},
   "outputs": [],
   "source": [
    "def calculate_total_star_score_no_weights(star_scores):\n",
    "    star_score_total = 0\n",
    "    for index, star_score in enumerate(star_scores):\n",
    "        if star_score is not None:\n",
    "            star_score_total += star_score\n",
    "    return star_score_total"
   ]
  },
  {
   "cell_type": "code",
   "execution_count": null,
   "id": "a50dda97-596d-4986-92e9-91b42379172a",
   "metadata": {},
   "outputs": [],
   "source": [
    "def calculate_total_star_score_simple_weights(star_scores):\n",
    "    star_score_total = 0\n",
    "    for index, star_score in enumerate(star_scores):\n",
    "        billing_order = index + 1  # Index starts from 0 but the equation needs it to start from 1\n",
    "        if star_score is not None:\n",
    "            star_score_mod = calculate_star_score_with_weights_simple_version(billing_order, star_score)  # Apply the above function to the star score\n",
    "            star_score_total += star_score_mod\n",
    "    return star_score_total"
   ]
  },
  {
   "cell_type": "code",
   "execution_count": null,
   "id": "5d1c807f-e38b-4e45-95a3-3b2878cb0369",
   "metadata": {},
   "outputs": [],
   "source": [
    "def calculate_total_star_score_log_weights(star_scores):\n",
    "    star_score_total = 0\n",
    "    for index, star_score in enumerate(star_scores):\n",
    "        billing_order = index + 1  # Index starts from 0 but the equation needs it to start from 1\n",
    "        if star_score is not None:\n",
    "            star_score_mod = calculate_star_score_with_weights_log_version(billing_order, star_score)  # Apply the above function to the star score\n",
    "            star_score_total += star_score_mod\n",
    "    return star_score_total"
   ]
  },
  {
   "cell_type": "code",
   "execution_count": null,
   "id": "7df73de7-fa65-49b2-94b8-5bacc3995425",
   "metadata": {},
   "outputs": [],
   "source": [
    "def calculate_total_star_score_exp_weights(star_scores):\n",
    "    star_score_total = 0\n",
    "    for index, star_score in enumerate(star_scores):\n",
    "        billing_order = index + 1  # Index starts from 0 but the equation needs it to start from 1\n",
    "        if star_score is not None:\n",
    "            star_score_mod = calculate_star_score_with_weights_exponential_version(billing_order, star_score)  # Apply the above function to the star score\n",
    "            star_score_total += star_score_mod\n",
    "    return star_score_total"
   ]
  },
  {
   "cell_type": "code",
   "execution_count": null,
   "id": "7ac0a794-91b8-4f35-973e-d23746a16227",
   "metadata": {},
   "outputs": [],
   "source": [
    "# Initialize csv file path\n",
    "csv_file_path ='merged_data_mod_scores_filtered_US_release_year_raw_scores.csv' # replace\n",
    "df = pd.read_csv(csv_file_path)"
   ]
  },
  {
   "cell_type": "code",
   "execution_count": null,
   "id": "4a653ad2-7183-49cf-89ee-b2d7d79f5434",
   "metadata": {},
   "outputs": [],
   "source": [
    "#Initialize empty columns that will hold scores\n",
    "df['Unweighted Star Score'] = 0\n",
    "df['Simple Weight Star Score'] = 0\n",
    "df['Log Weight Star Score'] = 0\n",
    "df['Exponential Weight Star Score'] = 0\n",
    "\n",
    "df_output = df.copy(deep = True)\n",
    "\n",
    "# Iterate through dataframe\n",
    "for index, row in df.iterrows():\n",
    "    # Get raw scores for the row\n",
    "    row_raw_scores = row['Raw Star Scores']\n",
    "    if not pd.isna(row_raw_scores):  # Check NaN\n",
    "        row_raw_scores = ast.literal_eval(row_raw_scores)    \n",
    "    # Calculate star scores using our various formulas\n",
    "    row_unweighted_score = calculate_total_star_score_no_weights(row_raw_scores)\n",
    "    row_simple_weight_score = calculate_total_star_score_simple_weights(row_raw_scores)\n",
    "    row_log_weight_score = calculate_total_star_score_log_weights(row_raw_scores)\n",
    "    row_exp_weight_score = calculate_total_star_score_exp_weights(row_raw_scores)\n",
    "    \n",
    "    df_output.loc[df['IMDB ID'] == row['IMDB ID'], 'Unweighted Star Score'] += row_unweighted_score\n",
    "    df_output.loc[df['IMDB ID'] == row['IMDB ID'], 'Simple Weight Star Score'] += row_simple_weight_score\n",
    "    df_output.loc[df['IMDB ID'] == row['IMDB ID'], 'Log Weight Star Score'] += row_log_weight_score\n",
    "    df_output.loc[df['IMDB ID'] == row['IMDB ID'], 'Exponential Weight Star Score'] += row_exp_weight_score"
   ]
  },
  {
   "cell_type": "code",
   "execution_count": null,
   "id": "781e236e-5607-4e71-b227-e1032bdc5912",
   "metadata": {},
   "outputs": [],
   "source": [
    "df_output.to_csv('/Outputs/3.3.2b_Merged_Data_Star_Scores.csv')"
   ]
  }
 ],
 "metadata": {
  "kernelspec": {
   "display_name": "Python 3 (ipykernel)",
   "language": "python",
   "name": "python3"
  },
  "language_info": {
   "codemirror_mode": {
    "name": "ipython",
    "version": 3
   },
   "file_extension": ".py",
   "mimetype": "text/x-python",
   "name": "python",
   "nbconvert_exporter": "python",
   "pygments_lexer": "ipython3",
   "version": "3.9.7"
  }
 },
 "nbformat": 4,
 "nbformat_minor": 5
}
