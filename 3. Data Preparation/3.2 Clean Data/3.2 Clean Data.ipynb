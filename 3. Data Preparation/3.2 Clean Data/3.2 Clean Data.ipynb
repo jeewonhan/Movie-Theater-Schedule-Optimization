{
 "cells": [
  {
   "cell_type": "markdown",
   "id": "a496a1f8-11dc-443b-9858-1e5fbf1de1ec",
   "metadata": {},
   "source": [
    "## Description\n",
    "\n",
    "#### Purpose: To clean up main dataset.\n",
    "\n",
    "#### Input: `3.3.5_Merged_Budgets_Revs.csv`\n",
    "\n",
    "#### Outputs: `3.2_Cleaned_Merged_Data.csv`\n",
    "\n",
    "This file is for basic cleaning tasks on the main dataset, including dropping redundant columns and renaming variables for clarity. "
   ]
  },
  {
   "cell_type": "code",
   "execution_count": null,
   "id": "3da936df-d0e7-4ed9-b162-da5ca9193cf2",
   "metadata": {},
   "outputs": [],
   "source": [
    "import pandas as pd"
   ]
  },
  {
   "cell_type": "code",
   "execution_count": null,
   "id": "b7fb6ccd-29a0-4b8d-bb84-c4c85dbeee8c",
   "metadata": {},
   "outputs": [],
   "source": [
    "df = pd.read_csv(\"../3.3 Construct Data/Dataset Archive/merged_data_combined_budgets_and_revs.csv\")\n",
    "\n",
    "#drops useless index columns\n",
    "df = df.drop('Unnamed: 0.5', axis=1)\n",
    "df = df.drop('Unnamed: 0.4', axis=1)\n",
    "df = df.drop('Unnamed: 0.3', axis=1)\n",
    "df = df.drop('Unnamed: 0.2', axis=1)\n",
    "df = df.drop('Unnamed: 0.1', axis=1)\n",
    "df = df.drop('Unnamed: 0', axis=1)\n",
    "\n",
    "\n",
    "#drop redundant columns\n",
    "df = df.drop('ID', axis = 1)\n",
    "df = df.drop('imdb_ids', axis = 1)\n",
    "\n",
    "#renames columns to add legibility\n",
    "df.rename(columns={'movie_id': 'TMDB ID', 'Title_y': 'TMDB Title', 'Title_x': 'IMDB Title', 'Budget_y': 'TMDB Budget', 'Budget_x': 'IMDB Budget', 'Revenue_y': 'TMDB Revenue', 'domestic_revenue': 'IMDB Domestic Revenue'},inplace = True)\n",
    "print(df.head)\n",
    "df.to_csv(\"/Outputs/3.2_Cleaned_Merged_Data.csv\",index=False)"
   ]
  }
 ],
 "metadata": {
  "kernelspec": {
   "display_name": "Python 3 (ipykernel)",
   "language": "python",
   "name": "python3"
  },
  "language_info": {
   "codemirror_mode": {
    "name": "ipython",
    "version": 3
   },
   "file_extension": ".py",
   "mimetype": "text/x-python",
   "name": "python",
   "nbconvert_exporter": "python",
   "pygments_lexer": "ipython3",
   "version": "3.9.7"
  }
 },
 "nbformat": 4,
 "nbformat_minor": 5
}
